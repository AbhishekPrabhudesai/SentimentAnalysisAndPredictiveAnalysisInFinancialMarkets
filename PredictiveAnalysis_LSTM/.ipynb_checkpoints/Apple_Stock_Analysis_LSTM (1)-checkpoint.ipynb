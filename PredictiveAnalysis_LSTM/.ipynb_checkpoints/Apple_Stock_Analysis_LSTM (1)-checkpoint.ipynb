{
 "cells": [
  {
   "cell_type": "code",
   "execution_count": 2,
   "metadata": {
    "colab": {
     "base_uri": "https://localhost:8080/",
     "height": 1652
    },
    "colab_type": "code",
    "id": "ghq1-2eyb6wT",
    "outputId": "99af58a1-e076-4c3a-beb0-7e62bb54b703"
   },
   "outputs": [
    {
     "name": "stdout",
     "output_type": "stream",
     "text": [
      "Requirement already satisfied: tensorflow in /usr/local/lib/python2.7/dist-packages (1.12.0rc2)\n",
      "Requirement already satisfied: grpcio>=1.8.6 in /usr/local/lib/python2.7/dist-packages (from tensorflow) (1.15.0)\n",
      "Requirement already satisfied: mock>=2.0.0 in /usr/local/lib/python2.7/dist-packages (from tensorflow) (2.0.0)\n",
      "Requirement already satisfied: keras-applications>=1.0.6 in /usr/local/lib/python2.7/dist-packages (from tensorflow) (1.0.6)\n",
      "Requirement already satisfied: enum34>=1.1.6 in /usr/local/lib/python2.7/dist-packages (from tensorflow) (1.1.6)\n",
      "Requirement already satisfied: protobuf>=3.6.1 in /usr/local/lib/python2.7/dist-packages (from tensorflow) (3.6.1)\n",
      "Requirement already satisfied: keras-preprocessing>=1.0.5 in /usr/local/lib/python2.7/dist-packages (from tensorflow) (1.0.5)\n",
      "Requirement already satisfied: gast>=0.2.0 in /usr/local/lib/python2.7/dist-packages (from tensorflow) (0.2.0)\n",
      "Requirement already satisfied: wheel in /usr/local/lib/python2.7/dist-packages (from tensorflow) (0.32.2)\n",
      "Requirement already satisfied: absl-py>=0.1.6 in /usr/local/lib/python2.7/dist-packages (from tensorflow) (0.6.1)\n",
      "Requirement already satisfied: backports.weakref>=1.0rc1 in /usr/local/lib/python2.7/dist-packages (from tensorflow) (1.0.post1)\n",
      "Requirement already satisfied: six>=1.10.0 in /usr/local/lib/python2.7/dist-packages (from tensorflow) (1.11.0)\n",
      "Requirement already satisfied: tensorboard<1.13.0,>=1.12.0 in /usr/local/lib/python2.7/dist-packages (from tensorflow) (1.12.0)\n",
      "Requirement already satisfied: numpy>=1.13.3 in /usr/local/lib/python2.7/dist-packages (from tensorflow) (1.14.6)\n",
      "Requirement already satisfied: termcolor>=1.1.0 in /usr/local/lib/python2.7/dist-packages (from tensorflow) (1.1.0)\n",
      "Requirement already satisfied: astor>=0.6.0 in /usr/local/lib/python2.7/dist-packages (from tensorflow) (0.7.1)\n",
      "Requirement already satisfied: futures>=2.2.0 in /usr/local/lib/python2.7/dist-packages (from grpcio>=1.8.6->tensorflow) (3.2.0)\n",
      "Requirement already satisfied: funcsigs>=1; python_version < \"3.3\" in /usr/local/lib/python2.7/dist-packages (from mock>=2.0.0->tensorflow) (1.0.2)\n",
      "Requirement already satisfied: pbr>=0.11 in /usr/local/lib/python2.7/dist-packages (from mock>=2.0.0->tensorflow) (5.1.0)\n",
      "Requirement already satisfied: h5py in /usr/local/lib/python2.7/dist-packages (from keras-applications>=1.0.6->tensorflow) (2.8.0)\n",
      "Requirement already satisfied: setuptools in /usr/local/lib/python2.7/dist-packages (from protobuf>=3.6.1->tensorflow) (40.5.0)\n",
      "Requirement already satisfied: werkzeug>=0.11.10 in /usr/local/lib/python2.7/dist-packages (from tensorboard<1.13.0,>=1.12.0->tensorflow) (0.14.1)\n",
      "Requirement already satisfied: markdown>=2.6.8 in /usr/local/lib/python2.7/dist-packages (from tensorboard<1.13.0,>=1.12.0->tensorflow) (3.0.1)\n",
      "Requirement already satisfied: keras in /usr/local/lib/python2.7/dist-packages (2.1.6)\n",
      "Requirement already satisfied: h5py in /usr/local/lib/python2.7/dist-packages (from keras) (2.8.0)\n",
      "Requirement already satisfied: six>=1.9.0 in /usr/local/lib/python2.7/dist-packages (from keras) (1.11.0)\n",
      "Requirement already satisfied: numpy>=1.9.1 in /usr/local/lib/python2.7/dist-packages (from keras) (1.14.6)\n",
      "Requirement already satisfied: pyyaml in /usr/local/lib/python2.7/dist-packages (from keras) (3.13)\n",
      "Requirement already satisfied: scipy>=0.14 in /usr/local/lib/python2.7/dist-packages (from keras) (0.19.1)\n",
      "Requirement already satisfied: hyperopt in /usr/local/lib/python2.7/dist-packages (0.1.1)\n",
      "Requirement already satisfied: six in /usr/local/lib/python2.7/dist-packages (from hyperopt) (1.11.0)\n",
      "Requirement already satisfied: numpy in /usr/local/lib/python2.7/dist-packages (from hyperopt) (1.14.6)\n",
      "Requirement already satisfied: networkx in /usr/local/lib/python2.7/dist-packages (from hyperopt) (2.2)\n",
      "Requirement already satisfied: future in /usr/local/lib/python2.7/dist-packages (from hyperopt) (0.16.0)\n",
      "Requirement already satisfied: scipy in /usr/local/lib/python2.7/dist-packages (from hyperopt) (0.19.1)\n",
      "Requirement already satisfied: pymongo in /usr/local/lib/python2.7/dist-packages (from hyperopt) (3.7.2)\n",
      "Requirement already satisfied: decorator>=4.3.0 in /usr/local/lib/python2.7/dist-packages (from networkx->hyperopt) (4.3.0)\n",
      "Requirement already satisfied: hyperas in /usr/local/lib/python2.7/dist-packages (0.4)\n",
      "Requirement already satisfied: hyperopt in /usr/local/lib/python2.7/dist-packages (from hyperas) (0.1.1)\n",
      "Requirement already satisfied: keras in /usr/local/lib/python2.7/dist-packages (from hyperas) (2.1.6)\n",
      "Requirement already satisfied: nbconvert in /usr/local/lib/python2.7/dist-packages (from hyperas) (5.4.0)\n",
      "Requirement already satisfied: nbformat in /usr/local/lib/python2.7/dist-packages (from hyperas) (4.4.0)\n",
      "Requirement already satisfied: jupyter in /usr/local/lib/python2.7/dist-packages (from hyperas) (1.0.0)\n",
      "Requirement already satisfied: entrypoints in /usr/local/lib/python2.7/dist-packages (from hyperas) (0.2.3)\n",
      "Requirement already satisfied: six in /usr/local/lib/python2.7/dist-packages (from hyperopt->hyperas) (1.11.0)\n",
      "Requirement already satisfied: numpy in /usr/local/lib/python2.7/dist-packages (from hyperopt->hyperas) (1.14.6)\n",
      "Requirement already satisfied: pymongo in /usr/local/lib/python2.7/dist-packages (from hyperopt->hyperas) (3.7.2)\n",
      "Requirement already satisfied: networkx in /usr/local/lib/python2.7/dist-packages (from hyperopt->hyperas) (2.2)\n",
      "Requirement already satisfied: future in /usr/local/lib/python2.7/dist-packages (from hyperopt->hyperas) (0.16.0)\n",
      "Requirement already satisfied: scipy in /usr/local/lib/python2.7/dist-packages (from hyperopt->hyperas) (0.19.1)\n",
      "Requirement already satisfied: pyyaml in /usr/local/lib/python2.7/dist-packages (from keras->hyperas) (3.13)\n",
      "Requirement already satisfied: h5py in /usr/local/lib/python2.7/dist-packages (from keras->hyperas) (2.8.0)\n",
      "Requirement already satisfied: jinja2 in /usr/local/lib/python2.7/dist-packages (from nbconvert->hyperas) (2.10)\n",
      "Requirement already satisfied: defusedxml in /usr/local/lib/python2.7/dist-packages (from nbconvert->hyperas) (0.5.0)\n",
      "Requirement already satisfied: testpath in /usr/local/lib/python2.7/dist-packages (from nbconvert->hyperas) (0.4.2)\n",
      "Requirement already satisfied: bleach in /usr/local/lib/python2.7/dist-packages (from nbconvert->hyperas) (3.0.2)\n",
      "Requirement already satisfied: mistune>=0.8.1 in /usr/local/lib/python2.7/dist-packages (from nbconvert->hyperas) (0.8.4)\n",
      "Requirement already satisfied: jupyter-core in /usr/local/lib/python2.7/dist-packages (from nbconvert->hyperas) (4.4.0)\n",
      "Requirement already satisfied: pygments in /usr/local/lib/python2.7/dist-packages (from nbconvert->hyperas) (2.1.3)\n",
      "Requirement already satisfied: pandocfilters>=1.4.1 in /usr/local/lib/python2.7/dist-packages (from nbconvert->hyperas) (1.4.2)\n",
      "Requirement already satisfied: traitlets>=4.2 in /usr/local/lib/python2.7/dist-packages (from nbconvert->hyperas) (4.3.2)\n",
      "Requirement already satisfied: jsonschema!=2.5.0,>=2.4 in /usr/local/lib/python2.7/dist-packages (from nbformat->hyperas) (2.6.0)\n",
      "Requirement already satisfied: ipython-genutils in /usr/local/lib/python2.7/dist-packages (from nbformat->hyperas) (0.2.0)\n",
      "Requirement already satisfied: ipywidgets in /usr/local/lib/python2.7/dist-packages (from jupyter->hyperas) (7.4.2)\n",
      "Requirement already satisfied: qtconsole in /usr/local/lib/python2.7/dist-packages (from jupyter->hyperas) (4.4.2)\n",
      "Requirement already satisfied: jupyter-console in /usr/local/lib/python2.7/dist-packages (from jupyter->hyperas) (5.2.0)\n",
      "Requirement already satisfied: ipykernel in /usr/local/lib/python2.7/dist-packages (from jupyter->hyperas) (4.6.1)\n",
      "Requirement already satisfied: notebook in /usr/local/lib/python2.7/dist-packages (from jupyter->hyperas) (5.2.2)\n",
      "Requirement already satisfied: configparser>=3.5; python_version == \"2.7\" in /usr/local/lib/python2.7/dist-packages (from entrypoints->hyperas) (3.5.0)\n",
      "Requirement already satisfied: decorator>=4.3.0 in /usr/local/lib/python2.7/dist-packages (from networkx->hyperopt->hyperas) (4.3.0)\n",
      "Requirement already satisfied: MarkupSafe>=0.23 in /usr/local/lib/python2.7/dist-packages (from jinja2->nbconvert->hyperas) (1.0)\n",
      "Requirement already satisfied: webencodings in /usr/local/lib/python2.7/dist-packages (from bleach->nbconvert->hyperas) (0.5.1)\n",
      "Requirement already satisfied: enum34; python_version == \"2.7\" in /usr/local/lib/python2.7/dist-packages (from traitlets>=4.2->nbconvert->hyperas) (1.1.6)\n",
      "Requirement already satisfied: functools32; python_version == \"2.7\" in /usr/local/lib/python2.7/dist-packages (from jsonschema!=2.5.0,>=2.4->nbformat->hyperas) (3.2.3.post2)\n",
      "Requirement already satisfied: ipython<6.0.0,>=4.0.0; python_version < \"3.3\" in /usr/local/lib/python2.7/dist-packages (from ipywidgets->jupyter->hyperas) (5.5.0)\n",
      "Requirement already satisfied: widgetsnbextension~=3.4.0 in /usr/local/lib/python2.7/dist-packages (from ipywidgets->jupyter->hyperas) (3.4.2)\n",
      "Requirement already satisfied: jupyter-client>=4.1 in /usr/local/lib/python2.7/dist-packages (from qtconsole->jupyter->hyperas) (5.2.3)\n",
      "Requirement already satisfied: prompt-toolkit<2.0.0,>=1.0.0 in /usr/local/lib/python2.7/dist-packages (from jupyter-console->jupyter->hyperas) (1.0.15)\n",
      "Requirement already satisfied: tornado>=4.0 in /usr/local/lib/python2.7/dist-packages (from ipykernel->jupyter->hyperas) (4.5.3)\n",
      "Requirement already satisfied: terminado>=0.3.3; sys_platform != \"win32\" in /usr/local/lib/python2.7/dist-packages (from notebook->jupyter->hyperas) (0.8.1)\n",
      "Requirement already satisfied: simplegeneric>0.8 in /usr/local/lib/python2.7/dist-packages (from ipython<6.0.0,>=4.0.0; python_version < \"3.3\"->ipywidgets->jupyter->hyperas) (0.8.1)\n",
      "Requirement already satisfied: pickleshare in /usr/local/lib/python2.7/dist-packages (from ipython<6.0.0,>=4.0.0; python_version < \"3.3\"->ipywidgets->jupyter->hyperas) (0.7.5)\n",
      "Requirement already satisfied: backports.shutil-get-terminal-size; python_version == \"2.7\" in /usr/local/lib/python2.7/dist-packages (from ipython<6.0.0,>=4.0.0; python_version < \"3.3\"->ipywidgets->jupyter->hyperas) (1.0.0)\n",
      "Requirement already satisfied: pathlib2; python_version == \"2.7\" or python_version == \"3.3\" in /usr/local/lib/python2.7/dist-packages (from ipython<6.0.0,>=4.0.0; python_version < \"3.3\"->ipywidgets->jupyter->hyperas) (2.3.2)\n",
      "Requirement already satisfied: pexpect; sys_platform != \"win32\" in /usr/local/lib/python2.7/dist-packages (from ipython<6.0.0,>=4.0.0; python_version < \"3.3\"->ipywidgets->jupyter->hyperas) (4.6.0)\n",
      "Requirement already satisfied: setuptools>=18.5 in /usr/local/lib/python2.7/dist-packages (from ipython<6.0.0,>=4.0.0; python_version < \"3.3\"->ipywidgets->jupyter->hyperas) (40.5.0)\n",
      "Requirement already satisfied: pyzmq>=13 in /usr/local/lib/python2.7/dist-packages (from jupyter-client>=4.1->qtconsole->jupyter->hyperas) (16.0.4)\n",
      "Requirement already satisfied: python-dateutil>=2.1 in /usr/local/lib/python2.7/dist-packages (from jupyter-client>=4.1->qtconsole->jupyter->hyperas) (2.5.3)\n",
      "Requirement already satisfied: wcwidth in /usr/local/lib/python2.7/dist-packages (from prompt-toolkit<2.0.0,>=1.0.0->jupyter-console->jupyter->hyperas) (0.1.7)\n",
      "Requirement already satisfied: singledispatch in /usr/local/lib/python2.7/dist-packages (from tornado>=4.0->ipykernel->jupyter->hyperas) (3.4.0.3)\n",
      "Requirement already satisfied: certifi in /usr/local/lib/python2.7/dist-packages (from tornado>=4.0->ipykernel->jupyter->hyperas) (2018.10.15)\n",
      "Requirement already satisfied: backports_abc>=0.4 in /usr/local/lib/python2.7/dist-packages (from tornado>=4.0->ipykernel->jupyter->hyperas) (0.5)\n",
      "Requirement already satisfied: ptyprocess; os_name != \"nt\" in /usr/local/lib/python2.7/dist-packages (from terminado>=0.3.3; sys_platform != \"win32\"->notebook->jupyter->hyperas) (0.6.0)\n",
      "Requirement already satisfied: scandir; python_version < \"3.5\" in /usr/local/lib/python2.7/dist-packages (from pathlib2; python_version == \"2.7\" or python_version == \"3.3\"->ipython<6.0.0,>=4.0.0; python_version < \"3.3\"->ipywidgets->jupyter->hyperas) (1.9.0)\n",
      "Requirement already satisfied: seaborn in /usr/local/lib/python2.7/dist-packages (0.7.1)\n"
     ]
    }
   ],
   "source": [
    "!pip install tensorflow\n",
    "!pip install keras\n",
    "!pip install hyperopt\n",
    "!pip install hyperas\n",
    "!pip install seaborn"
   ]
  },
  {
   "cell_type": "code",
   "execution_count": 0,
   "metadata": {
    "colab": {},
    "colab_type": "code",
    "id": "4OgJDY9wb6wi"
   },
   "outputs": [],
   "source": [
    "#!pip install tensorflow.keras"
   ]
  },
  {
   "cell_type": "code",
   "execution_count": 4,
   "metadata": {
    "colab": {
     "base_uri": "https://localhost:8080/",
     "height": 88
    },
    "colab_type": "code",
    "id": "P3zO-Tr5b6wo",
    "outputId": "477796da-05ef-45aa-cdd2-96f7744424ee"
   },
   "outputs": [
    {
     "name": "stderr",
     "output_type": "stream",
     "text": [
      "Using TensorFlow backend.\n",
      "/usr/local/lib/python2.7/dist-packages/sklearn/cross_validation.py:41: DeprecationWarning: This module was deprecated in version 0.18 in favor of the model_selection module into which all the refactored classes and functions are moved. Also note that the interface of the new CV iterators are different from that of this module. This module will be removed in 0.20.\n",
      "  \"This module will be removed in 0.20.\", DeprecationWarning)\n"
     ]
    }
   ],
   "source": [
    "import numpy as np\n",
    "import matplotlib.pyplot as plt\n",
    "import pandas as pd\n",
    "import math\n",
    "import time\n",
    "from keras.models import Sequential\n",
    "from keras.layers.core import Dense, Activation, Dropout\n",
    "from keras.layers import Dense\n",
    "from keras.layers import LSTM\n",
    "from sklearn import cross_validation\n",
    "from sklearn.metrics import mean_squared_error\n",
    "from sklearn.preprocessing import MinMaxScaler\n",
    "import os\n",
    "\n",
    "%matplotlib inline"
   ]
  },
  {
   "cell_type": "code",
   "execution_count": 5,
   "metadata": {
    "colab": {
     "base_uri": "https://localhost:8080/",
     "height": 323
    },
    "colab_type": "code",
    "id": "RMqnpeN4b6wv",
    "outputId": "a48c127b-7501-4b62-de0f-12c1f5f146c5"
   },
   "outputs": [
    {
     "name": "stdout",
     "output_type": "stream",
     "text": [
      "Collecting intrinio\n",
      "  Downloading https://files.pythonhosted.org/packages/3c/bb/71afeb08e8f779f7f4eba3145290a3d6a545746a5ef89c96a1e1adec5df9/intrinio-0.2.1.tar.gz\n",
      "Requirement already satisfied: pandas>=0.14 in /usr/local/lib/python2.7/dist-packages (from intrinio) (0.22.0)\n",
      "Requirement already satisfied: numpy>=1.8 in /usr/local/lib/python2.7/dist-packages (from intrinio) (1.14.6)\n",
      "Requirement already satisfied: requests>=2.7.0 in /usr/local/lib/python2.7/dist-packages (from intrinio) (2.18.4)\n",
      "Requirement already satisfied: pytz>=2011k in /usr/local/lib/python2.7/dist-packages (from pandas>=0.14->intrinio) (2018.7)\n",
      "Requirement already satisfied: python-dateutil in /usr/local/lib/python2.7/dist-packages (from pandas>=0.14->intrinio) (2.5.3)\n",
      "Requirement already satisfied: idna<2.7,>=2.5 in /usr/local/lib/python2.7/dist-packages (from requests>=2.7.0->intrinio) (2.6)\n",
      "Requirement already satisfied: urllib3<1.23,>=1.21.1 in /usr/local/lib/python2.7/dist-packages (from requests>=2.7.0->intrinio) (1.22)\n",
      "Requirement already satisfied: certifi>=2017.4.17 in /usr/local/lib/python2.7/dist-packages (from requests>=2.7.0->intrinio) (2018.10.15)\n",
      "Requirement already satisfied: chardet<3.1.0,>=3.0.2 in /usr/local/lib/python2.7/dist-packages (from requests>=2.7.0->intrinio) (3.0.4)\n",
      "Requirement already satisfied: six>=1.5 in /usr/local/lib/python2.7/dist-packages (from python-dateutil->pandas>=0.14->intrinio) (1.11.0)\n",
      "Building wheels for collected packages: intrinio\n",
      "  Running setup.py bdist_wheel for intrinio ... \u001b[?25l-\b \bdone\n",
      "\u001b[?25h  Stored in directory: /root/.cache/pip/wheels/86/35/34/3eabf933846c7711f005cfe790f7341300f6adbf76b44cf3ac\n",
      "Successfully built intrinio\n",
      "Installing collected packages: intrinio\n",
      "Successfully installed intrinio-0.2.1\n"
     ]
    }
   ],
   "source": [
    "!pip install intrinio"
   ]
  },
  {
   "cell_type": "code",
   "execution_count": 0,
   "metadata": {
    "colab": {},
    "colab_type": "code",
    "id": "hoYNfrJqb6w2"
   },
   "outputs": [],
   "source": [
    "import intrinio"
   ]
  },
  {
   "cell_type": "code",
   "execution_count": 0,
   "metadata": {
    "colab": {},
    "colab_type": "code",
    "id": "Tv_5UNvjb6w9"
   },
   "outputs": [],
   "source": [
    "intrinio.client.username = '743b5f438c88000ffc6332758029b212'\n",
    "intrinio.client.password = 'ce548e14e41df641d828602e11612375'"
   ]
  },
  {
   "cell_type": "code",
   "execution_count": 0,
   "metadata": {
    "colab": {},
    "colab_type": "code",
    "id": "i17YZZNRb6xD"
   },
   "outputs": [],
   "source": [
    "stock_data = intrinio.prices('AAPL', start_date='2014-01-01', end_date='2018-10-03')"
   ]
  },
  {
   "cell_type": "code",
   "execution_count": 9,
   "metadata": {
    "colab": {
     "base_uri": "https://localhost:8080/",
     "height": 235
    },
    "colab_type": "code",
    "id": "QxDPZSalb6xK",
    "outputId": "258aa8e9-be5f-4009-cecd-d39dbca0abfb"
   },
   "outputs": [
    {
     "data": {
      "text/html": [
       "<div>\n",
       "<style scoped>\n",
       "    .dataframe tbody tr th:only-of-type {\n",
       "        vertical-align: middle;\n",
       "    }\n",
       "\n",
       "    .dataframe tbody tr th {\n",
       "        vertical-align: top;\n",
       "    }\n",
       "\n",
       "    .dataframe thead th {\n",
       "        text-align: right;\n",
       "    }\n",
       "</style>\n",
       "<table border=\"1\" class=\"dataframe\">\n",
       "  <thead>\n",
       "    <tr style=\"text-align: right;\">\n",
       "      <th></th>\n",
       "      <th>adj_close</th>\n",
       "      <th>adj_factor</th>\n",
       "      <th>adj_high</th>\n",
       "      <th>adj_low</th>\n",
       "      <th>adj_open</th>\n",
       "      <th>adj_volume</th>\n",
       "      <th>close</th>\n",
       "      <th>ex_dividend</th>\n",
       "      <th>high</th>\n",
       "      <th>low</th>\n",
       "      <th>open</th>\n",
       "      <th>split_ratio</th>\n",
       "      <th>volume</th>\n",
       "    </tr>\n",
       "    <tr>\n",
       "      <th>date</th>\n",
       "      <th></th>\n",
       "      <th></th>\n",
       "      <th></th>\n",
       "      <th></th>\n",
       "      <th></th>\n",
       "      <th></th>\n",
       "      <th></th>\n",
       "      <th></th>\n",
       "      <th></th>\n",
       "      <th></th>\n",
       "      <th></th>\n",
       "      <th></th>\n",
       "      <th></th>\n",
       "    </tr>\n",
       "  </thead>\n",
       "  <tbody>\n",
       "    <tr>\n",
       "      <th>2018-10-03</th>\n",
       "      <td>232.07</td>\n",
       "      <td>1.0</td>\n",
       "      <td>233.47</td>\n",
       "      <td>229.78</td>\n",
       "      <td>230.05</td>\n",
       "      <td>28654799.0</td>\n",
       "      <td>232.07</td>\n",
       "      <td>0.0</td>\n",
       "      <td>233.47</td>\n",
       "      <td>229.78</td>\n",
       "      <td>230.05</td>\n",
       "      <td>1.0</td>\n",
       "      <td>28654799.0</td>\n",
       "    </tr>\n",
       "    <tr>\n",
       "      <th>2018-10-02</th>\n",
       "      <td>229.28</td>\n",
       "      <td>1.0</td>\n",
       "      <td>230.00</td>\n",
       "      <td>226.63</td>\n",
       "      <td>227.25</td>\n",
       "      <td>24788170.0</td>\n",
       "      <td>229.28</td>\n",
       "      <td>0.0</td>\n",
       "      <td>230.00</td>\n",
       "      <td>226.63</td>\n",
       "      <td>227.25</td>\n",
       "      <td>1.0</td>\n",
       "      <td>24788170.0</td>\n",
       "    </tr>\n",
       "    <tr>\n",
       "      <th>2018-10-01</th>\n",
       "      <td>227.26</td>\n",
       "      <td>1.0</td>\n",
       "      <td>229.42</td>\n",
       "      <td>226.35</td>\n",
       "      <td>227.95</td>\n",
       "      <td>23600802.0</td>\n",
       "      <td>227.26</td>\n",
       "      <td>0.0</td>\n",
       "      <td>229.42</td>\n",
       "      <td>226.35</td>\n",
       "      <td>227.95</td>\n",
       "      <td>1.0</td>\n",
       "      <td>23600802.0</td>\n",
       "    </tr>\n",
       "    <tr>\n",
       "      <th>2018-09-28</th>\n",
       "      <td>225.74</td>\n",
       "      <td>1.0</td>\n",
       "      <td>225.84</td>\n",
       "      <td>224.02</td>\n",
       "      <td>224.79</td>\n",
       "      <td>22929364.0</td>\n",
       "      <td>225.74</td>\n",
       "      <td>0.0</td>\n",
       "      <td>225.84</td>\n",
       "      <td>224.02</td>\n",
       "      <td>224.79</td>\n",
       "      <td>1.0</td>\n",
       "      <td>22929364.0</td>\n",
       "    </tr>\n",
       "    <tr>\n",
       "      <th>2018-09-27</th>\n",
       "      <td>224.95</td>\n",
       "      <td>1.0</td>\n",
       "      <td>226.44</td>\n",
       "      <td>223.54</td>\n",
       "      <td>223.82</td>\n",
       "      <td>30181227.0</td>\n",
       "      <td>224.95</td>\n",
       "      <td>0.0</td>\n",
       "      <td>226.44</td>\n",
       "      <td>223.54</td>\n",
       "      <td>223.82</td>\n",
       "      <td>1.0</td>\n",
       "      <td>30181227.0</td>\n",
       "    </tr>\n",
       "  </tbody>\n",
       "</table>\n",
       "</div>"
      ],
      "text/plain": [
       "            adj_close  adj_factor  adj_high  adj_low  adj_open  adj_volume  \\\n",
       "date                                                                         \n",
       "2018-10-03     232.07         1.0    233.47   229.78    230.05  28654799.0   \n",
       "2018-10-02     229.28         1.0    230.00   226.63    227.25  24788170.0   \n",
       "2018-10-01     227.26         1.0    229.42   226.35    227.95  23600802.0   \n",
       "2018-09-28     225.74         1.0    225.84   224.02    224.79  22929364.0   \n",
       "2018-09-27     224.95         1.0    226.44   223.54    223.82  30181227.0   \n",
       "\n",
       "             close  ex_dividend    high     low    open  split_ratio  \\\n",
       "date                                                                   \n",
       "2018-10-03  232.07          0.0  233.47  229.78  230.05          1.0   \n",
       "2018-10-02  229.28          0.0  230.00  226.63  227.25          1.0   \n",
       "2018-10-01  227.26          0.0  229.42  226.35  227.95          1.0   \n",
       "2018-09-28  225.74          0.0  225.84  224.02  224.79          1.0   \n",
       "2018-09-27  224.95          0.0  226.44  223.54  223.82          1.0   \n",
       "\n",
       "                volume  \n",
       "date                    \n",
       "2018-10-03  28654799.0  \n",
       "2018-10-02  24788170.0  \n",
       "2018-10-01  23600802.0  \n",
       "2018-09-28  22929364.0  \n",
       "2018-09-27  30181227.0  "
      ]
     },
     "execution_count": 9,
     "metadata": {
      "tags": []
     },
     "output_type": "execute_result"
    }
   ],
   "source": [
    "stock_data.head()"
   ]
  },
  {
   "cell_type": "code",
   "execution_count": 0,
   "metadata": {
    "colab": {},
    "colab_type": "code",
    "id": "9kpD-MU6b6xW"
   },
   "outputs": [],
   "source": [
    "dataframe = pd.DataFrame(stock_data)"
   ]
  },
  {
   "cell_type": "code",
   "execution_count": 0,
   "metadata": {
    "colab": {},
    "colab_type": "code",
    "id": "w15gtjCNb6xg"
   },
   "outputs": [],
   "source": [
    "#df.ix[:, 'high':'low']"
   ]
  },
  {
   "cell_type": "code",
   "execution_count": 0,
   "metadata": {
    "colab": {},
    "colab_type": "code",
    "id": "Ls7hDvz6b6xn"
   },
   "outputs": [],
   "source": [
    "dataframe['Time'] = dataframe.index"
   ]
  },
  {
   "cell_type": "code",
   "execution_count": 13,
   "metadata": {
    "colab": {
     "base_uri": "https://localhost:8080/",
     "height": 235
    },
    "colab_type": "code",
    "id": "kfR_y9W6b6xs",
    "outputId": "495309c2-dc60-4adb-e314-38709f9b06f8"
   },
   "outputs": [
    {
     "data": {
      "text/html": [
       "<div>\n",
       "<style scoped>\n",
       "    .dataframe tbody tr th:only-of-type {\n",
       "        vertical-align: middle;\n",
       "    }\n",
       "\n",
       "    .dataframe tbody tr th {\n",
       "        vertical-align: top;\n",
       "    }\n",
       "\n",
       "    .dataframe thead th {\n",
       "        text-align: right;\n",
       "    }\n",
       "</style>\n",
       "<table border=\"1\" class=\"dataframe\">\n",
       "  <thead>\n",
       "    <tr style=\"text-align: right;\">\n",
       "      <th></th>\n",
       "      <th>adj_close</th>\n",
       "      <th>adj_factor</th>\n",
       "      <th>adj_high</th>\n",
       "      <th>adj_low</th>\n",
       "      <th>adj_open</th>\n",
       "      <th>adj_volume</th>\n",
       "      <th>close</th>\n",
       "      <th>ex_dividend</th>\n",
       "      <th>high</th>\n",
       "      <th>low</th>\n",
       "      <th>open</th>\n",
       "      <th>split_ratio</th>\n",
       "      <th>volume</th>\n",
       "      <th>Time</th>\n",
       "    </tr>\n",
       "    <tr>\n",
       "      <th>date</th>\n",
       "      <th></th>\n",
       "      <th></th>\n",
       "      <th></th>\n",
       "      <th></th>\n",
       "      <th></th>\n",
       "      <th></th>\n",
       "      <th></th>\n",
       "      <th></th>\n",
       "      <th></th>\n",
       "      <th></th>\n",
       "      <th></th>\n",
       "      <th></th>\n",
       "      <th></th>\n",
       "      <th></th>\n",
       "    </tr>\n",
       "  </thead>\n",
       "  <tbody>\n",
       "    <tr>\n",
       "      <th>2018-10-03</th>\n",
       "      <td>232.07</td>\n",
       "      <td>1.0</td>\n",
       "      <td>233.47</td>\n",
       "      <td>229.78</td>\n",
       "      <td>230.05</td>\n",
       "      <td>28654799.0</td>\n",
       "      <td>232.07</td>\n",
       "      <td>0.0</td>\n",
       "      <td>233.47</td>\n",
       "      <td>229.78</td>\n",
       "      <td>230.05</td>\n",
       "      <td>1.0</td>\n",
       "      <td>28654799.0</td>\n",
       "      <td>2018-10-03</td>\n",
       "    </tr>\n",
       "    <tr>\n",
       "      <th>2018-10-02</th>\n",
       "      <td>229.28</td>\n",
       "      <td>1.0</td>\n",
       "      <td>230.00</td>\n",
       "      <td>226.63</td>\n",
       "      <td>227.25</td>\n",
       "      <td>24788170.0</td>\n",
       "      <td>229.28</td>\n",
       "      <td>0.0</td>\n",
       "      <td>230.00</td>\n",
       "      <td>226.63</td>\n",
       "      <td>227.25</td>\n",
       "      <td>1.0</td>\n",
       "      <td>24788170.0</td>\n",
       "      <td>2018-10-02</td>\n",
       "    </tr>\n",
       "    <tr>\n",
       "      <th>2018-10-01</th>\n",
       "      <td>227.26</td>\n",
       "      <td>1.0</td>\n",
       "      <td>229.42</td>\n",
       "      <td>226.35</td>\n",
       "      <td>227.95</td>\n",
       "      <td>23600802.0</td>\n",
       "      <td>227.26</td>\n",
       "      <td>0.0</td>\n",
       "      <td>229.42</td>\n",
       "      <td>226.35</td>\n",
       "      <td>227.95</td>\n",
       "      <td>1.0</td>\n",
       "      <td>23600802.0</td>\n",
       "      <td>2018-10-01</td>\n",
       "    </tr>\n",
       "    <tr>\n",
       "      <th>2018-09-28</th>\n",
       "      <td>225.74</td>\n",
       "      <td>1.0</td>\n",
       "      <td>225.84</td>\n",
       "      <td>224.02</td>\n",
       "      <td>224.79</td>\n",
       "      <td>22929364.0</td>\n",
       "      <td>225.74</td>\n",
       "      <td>0.0</td>\n",
       "      <td>225.84</td>\n",
       "      <td>224.02</td>\n",
       "      <td>224.79</td>\n",
       "      <td>1.0</td>\n",
       "      <td>22929364.0</td>\n",
       "      <td>2018-09-28</td>\n",
       "    </tr>\n",
       "    <tr>\n",
       "      <th>2018-09-27</th>\n",
       "      <td>224.95</td>\n",
       "      <td>1.0</td>\n",
       "      <td>226.44</td>\n",
       "      <td>223.54</td>\n",
       "      <td>223.82</td>\n",
       "      <td>30181227.0</td>\n",
       "      <td>224.95</td>\n",
       "      <td>0.0</td>\n",
       "      <td>226.44</td>\n",
       "      <td>223.54</td>\n",
       "      <td>223.82</td>\n",
       "      <td>1.0</td>\n",
       "      <td>30181227.0</td>\n",
       "      <td>2018-09-27</td>\n",
       "    </tr>\n",
       "  </tbody>\n",
       "</table>\n",
       "</div>"
      ],
      "text/plain": [
       "            adj_close  adj_factor  adj_high  adj_low  adj_open  adj_volume  \\\n",
       "date                                                                         \n",
       "2018-10-03     232.07         1.0    233.47   229.78    230.05  28654799.0   \n",
       "2018-10-02     229.28         1.0    230.00   226.63    227.25  24788170.0   \n",
       "2018-10-01     227.26         1.0    229.42   226.35    227.95  23600802.0   \n",
       "2018-09-28     225.74         1.0    225.84   224.02    224.79  22929364.0   \n",
       "2018-09-27     224.95         1.0    226.44   223.54    223.82  30181227.0   \n",
       "\n",
       "             close  ex_dividend    high     low    open  split_ratio  \\\n",
       "date                                                                   \n",
       "2018-10-03  232.07          0.0  233.47  229.78  230.05          1.0   \n",
       "2018-10-02  229.28          0.0  230.00  226.63  227.25          1.0   \n",
       "2018-10-01  227.26          0.0  229.42  226.35  227.95          1.0   \n",
       "2018-09-28  225.74          0.0  225.84  224.02  224.79          1.0   \n",
       "2018-09-27  224.95          0.0  226.44  223.54  223.82          1.0   \n",
       "\n",
       "                volume       Time  \n",
       "date                               \n",
       "2018-10-03  28654799.0 2018-10-03  \n",
       "2018-10-02  24788170.0 2018-10-02  \n",
       "2018-10-01  23600802.0 2018-10-01  \n",
       "2018-09-28  22929364.0 2018-09-28  \n",
       "2018-09-27  30181227.0 2018-09-27  "
      ]
     },
     "execution_count": 13,
     "metadata": {
      "tags": []
     },
     "output_type": "execute_result"
    }
   ],
   "source": [
    "dataframe.head()"
   ]
  },
  {
   "cell_type": "code",
   "execution_count": 0,
   "metadata": {
    "colab": {},
    "colab_type": "code",
    "id": "UU5ZcJyAb6x6"
   },
   "outputs": [],
   "source": []
  },
  {
   "cell_type": "code",
   "execution_count": 14,
   "metadata": {
    "colab": {
     "base_uri": "https://localhost:8080/",
     "height": 235
    },
    "colab_type": "code",
    "id": "vfrBhkEwb6yA",
    "outputId": "f28e2cae-10ad-47f4-cec3-cc828fec8be5"
   },
   "outputs": [
    {
     "data": {
      "text/html": [
       "<div>\n",
       "<style scoped>\n",
       "    .dataframe tbody tr th:only-of-type {\n",
       "        vertical-align: middle;\n",
       "    }\n",
       "\n",
       "    .dataframe tbody tr th {\n",
       "        vertical-align: top;\n",
       "    }\n",
       "\n",
       "    .dataframe thead th {\n",
       "        text-align: right;\n",
       "    }\n",
       "</style>\n",
       "<table border=\"1\" class=\"dataframe\">\n",
       "  <thead>\n",
       "    <tr style=\"text-align: right;\">\n",
       "      <th></th>\n",
       "      <th>Time</th>\n",
       "      <th>First</th>\n",
       "      <th>Last</th>\n",
       "    </tr>\n",
       "    <tr>\n",
       "      <th>date</th>\n",
       "      <th></th>\n",
       "      <th></th>\n",
       "      <th></th>\n",
       "    </tr>\n",
       "  </thead>\n",
       "  <tbody>\n",
       "    <tr>\n",
       "      <th>2018-10-03</th>\n",
       "      <td>2018-10-03</td>\n",
       "      <td>233.47</td>\n",
       "      <td>229.78</td>\n",
       "    </tr>\n",
       "    <tr>\n",
       "      <th>2018-10-02</th>\n",
       "      <td>2018-10-02</td>\n",
       "      <td>230.00</td>\n",
       "      <td>226.63</td>\n",
       "    </tr>\n",
       "    <tr>\n",
       "      <th>2018-10-01</th>\n",
       "      <td>2018-10-01</td>\n",
       "      <td>229.42</td>\n",
       "      <td>226.35</td>\n",
       "    </tr>\n",
       "    <tr>\n",
       "      <th>2018-09-28</th>\n",
       "      <td>2018-09-28</td>\n",
       "      <td>225.84</td>\n",
       "      <td>224.02</td>\n",
       "    </tr>\n",
       "    <tr>\n",
       "      <th>2018-09-27</th>\n",
       "      <td>2018-09-27</td>\n",
       "      <td>226.44</td>\n",
       "      <td>223.54</td>\n",
       "    </tr>\n",
       "  </tbody>\n",
       "</table>\n",
       "</div>"
      ],
      "text/plain": [
       "                 Time   First    Last\n",
       "date                                 \n",
       "2018-10-03 2018-10-03  233.47  229.78\n",
       "2018-10-02 2018-10-02  230.00  226.63\n",
       "2018-10-01 2018-10-01  229.42  226.35\n",
       "2018-09-28 2018-09-28  225.84  224.02\n",
       "2018-09-27 2018-09-27  226.44  223.54"
      ]
     },
     "execution_count": 14,
     "metadata": {
      "tags": []
     },
     "output_type": "execute_result"
    }
   ],
   "source": [
    "#dataframe.columns = ['First', 'Last', '']\n",
    "dataframe = dataframe[['Time','high','low']]\n",
    "dataframe.columns = ['Time', 'First', 'Last']\n",
    "dataframe['Time']=pd.to_datetime(dataframe['Time'],infer_datetime_format=True)\n",
    "dataframe.head()"
   ]
  },
  {
   "cell_type": "code",
   "execution_count": 15,
   "metadata": {
    "colab": {
     "base_uri": "https://localhost:8080/",
     "height": 302
    },
    "colab_type": "code",
    "id": "AGYnNLe2b6yJ",
    "outputId": "0765dfb6-cf90-440f-b6ba-0f3610076d16"
   },
   "outputs": [
    {
     "name": "stdout",
     "output_type": "stream",
     "text": [
      "AxesSubplot(0.125,0.2;0.775x0.68)\n"
     ]
    },
    {
     "data": {
      "text/plain": [
       "array([231.625 , 228.315 , 227.885 , ..., 540.2   , 547.065 , 554.5255])"
      ]
     },
     "execution_count": 15,
     "metadata": {
      "tags": []
     },
     "output_type": "execute_result"
    },
    {
     "data": {
      "image/png": "[encoded data removed]",
      "text/plain": [
       "<matplotlib.figure.Figure at 0x7fd4de5344d0>"
      ]
     },
     "metadata": {
      "tags": []
     },
     "output_type": "display_data"
    }
   ],
   "source": [
    "#Take Average value of opening and closing stock for smoothness\n",
    "\n",
    "dataframe['Avg'] = (0.5*(dataframe['First'] + dataframe['Last']))\n",
    "plot_df = dataframe[['Time', 'Avg']]\n",
    "print(plot_df.set_index(plot_df.Time)['Avg'].plot())\n",
    "dataset = dataframe.Avg.values\n",
    "dataset"
   ]
  },
  {
   "cell_type": "code",
   "execution_count": 16,
   "metadata": {
    "colab": {
     "base_uri": "https://localhost:8080/",
     "height": 68
    },
    "colab_type": "code",
    "id": "gHJCnEc8b6yT",
    "outputId": "59b570c8-2dbd-404e-bc8b-39b1fdfd31e6"
   },
   "outputs": [
    {
     "name": "stdout",
     "output_type": "stream",
     "text": [
      "[231.625  228.315  227.885  ... 540.2    547.065  554.5255]\n"
     ]
    },
    {
     "data": {
      "text/plain": [
       "array([0.25363553, 0.24770034, 0.2469293 , ..., 0.80694472, 0.81925442,\n",
       "       0.83263193])"
      ]
     },
     "execution_count": 16,
     "metadata": {
      "tags": []
     },
     "output_type": "execute_result"
    }
   ],
   "source": [
    "#Scaling the data set\n",
    "dataset = (0.5*(dataframe['First'] + dataframe['Last'])).values\n",
    "print(dataset)\n",
    "min_max_scaler = MinMaxScaler()\n",
    "nparr = np.array([dataset])\n",
    "dataset = min_max_scaler.fit_transform(np.reshape(nparr, (len(nparr[0]), 1)))\n",
    "dataset = np.reshape(dataset, (1, len(dataset)))[0]\n",
    "dataset"
   ]
  },
  {
   "cell_type": "code",
   "execution_count": 0,
   "metadata": {
    "colab": {},
    "colab_type": "code",
    "id": "sTywHLOTb6yZ"
   },
   "outputs": [],
   "source": [
    "#Time delay function create time sequence of given delay\n",
    "\n",
    "def timeDelay(data, delay):\n",
    "    X_data, y_data = [], []\n",
    "    #naive version, vectorized version can be implemented,\n",
    "    #but may run out of memory,\n",
    "    for i in range(delay, len(data)):\n",
    "        X_data.append(data[i - (delay):i].tolist())\n",
    "    X_data = np.array(X_data)\n",
    "    y_data = data[delay:]\n",
    "    \n",
    "    plt.plot(range(len(X_data.flatten())), X_data.flatten(), linestyle='solid', color='green', label='time delayed data')\n",
    "    plt.plot(range(len(y_data)), y_data, linestyle='solid', color='blue', label='original data')\n",
    "    \n",
    "    return np.reshape(X_data, (X_data.shape[0], X_data.shape[1], 1)), np.reshape(y_data, (len(y_data),))"
   ]
  },
  {
   "cell_type": "code",
   "execution_count": 0,
   "metadata": {
    "colab": {},
    "colab_type": "code",
    "id": "q4jyt8QKb6yo"
   },
   "outputs": [],
   "source": [
    "#Create LSTM\n",
    "\n",
    "def model():\n",
    "    model = Sequential()\n",
    "    #model.add(keras.layers.LSTM(hidden_nodes, input_shape=(window, num_features), consume_less=\"mem\"))\n",
    "    model.add(LSTM(4,input_shape=(5, 1), dropout=0.2))\n",
    "    model.add(Dense(1))\n",
    "    start = time.time()\n",
    "    model.compile(loss=\"mse\", optimizer=\"rmsprop\")\n",
    "    print (\"Compilation Time : \", time.time() - start)\n",
    "    return model"
   ]
  },
  {
   "cell_type": "code",
   "execution_count": 19,
   "metadata": {
    "colab": {
     "base_uri": "https://localhost:8080/",
     "height": 265
    },
    "colab_type": "code",
    "id": "g0G3X4tQb6yv",
    "outputId": "015d5618-c104-440d-df62-fa7bd8d6a8e9"
   },
   "outputs": [
    {
     "data": {
      "image/png": "[encoded data removed]",
      "text/plain": [
       "<matplotlib.figure.Figure at 0x7fd4cd8cffd0>"
      ]
     },
     "metadata": {
      "tags": []
     },
     "output_type": "display_data"
    }
   ],
   "source": [
    "#define parameters\n",
    "\n",
    "ratio = 0.8 # Training test ratio\n",
    "d = 5 # Delay\n",
    "X, y = timeDelay(dataset, d)\n",
    "n = int(ratio * len(X))"
   ]
  },
  {
   "cell_type": "code",
   "execution_count": 0,
   "metadata": {
    "colab": {},
    "colab_type": "code",
    "id": "S6RM5VSNb6y2"
   },
   "outputs": [],
   "source": [
    "X_train, y_train = X[:n], y[:n]\n",
    "X_test, y_test = X[n:], y[n:]"
   ]
  },
  {
   "cell_type": "code",
   "execution_count": 21,
   "metadata": {
    "colab": {
     "base_uri": "https://localhost:8080/",
     "height": 629
    },
    "colab_type": "code",
    "id": "bOLU4iGQb6y7",
    "outputId": "a462d4e0-d829-4eee-9a07-2eb9df635e13"
   },
   "outputs": [
    {
     "data": {
      "text/plain": [
       "<matplotlib.legend.Legend at 0x7fd4cb6c2c90>"
      ]
     },
     "execution_count": 21,
     "metadata": {
      "tags": []
     },
     "output_type": "execute_result"
    },
    {
     "data": {
      "image/png": "[encoded data removed]",
      "text/plain": [
       "<matplotlib.figure.Figure at 0x7fd4cd73b850>"
      ]
     },
     "metadata": {
      "tags": []
     },
     "output_type": "display_data"
    }
   ],
   "source": [
    "x_train_flattened = X_train.flatten()\n",
    "x_test_flattened = X_test.flatten()\n",
    "plt.figure(figsize=(25,10))\n",
    "plt.plot(range(len(x_train_flattened)), x_train_flattened, linestyle='solid', color='green', label='train_data')\n",
    "plt.plot(\n",
    "    range(len(x_train_flattened), len(x_train_flattened) + len(x_test_flattened)), \n",
    "    x_test_flattened, linestyle='solid', color='blue', label='test_data')\n",
    "plt.legend()"
   ]
  },
  {
   "cell_type": "code",
   "execution_count": 22,
   "metadata": {
    "colab": {
     "base_uri": "https://localhost:8080/",
     "height": 34
    },
    "colab_type": "code",
    "id": "pzAnYtzXb6zA",
    "outputId": "a02327f1-bb6d-4335-f8fe-0f235beecb49"
   },
   "outputs": [
    {
     "name": "stdout",
     "output_type": "stream",
     "text": [
      "('Compilation Time : ', 0.022591114044189453)\n"
     ]
    }
   ],
   "source": [
    "model = model()"
   ]
  },
  {
   "cell_type": "code",
   "execution_count": 23,
   "metadata": {
    "colab": {
     "base_uri": "https://localhost:8080/",
     "height": 204
    },
    "colab_type": "code",
    "id": "-vgTHk80b6zI",
    "outputId": "8b579db0-94c6-4d70-bcd7-25eb688c7adc"
   },
   "outputs": [
    {
     "name": "stdout",
     "output_type": "stream",
     "text": [
      "_________________________________________________________________\n",
      "Layer (type)                 Output Shape              Param #   \n",
      "=================================================================\n",
      "lstm_1 (LSTM)                (None, 4)                 96        \n",
      "_________________________________________________________________\n",
      "dense_1 (Dense)              (None, 1)                 5         \n",
      "=================================================================\n",
      "Total params: 101\n",
      "Trainable params: 101\n",
      "Non-trainable params: 0\n",
      "_________________________________________________________________\n"
     ]
    }
   ],
   "source": [
    "model.summary()"
   ]
  },
  {
   "cell_type": "code",
   "execution_count": 24,
   "metadata": {
    "colab": {
     "base_uri": "https://localhost:8080/",
     "height": 1734
    },
    "colab_type": "code",
    "id": "yWoTQYzyckcd",
    "outputId": "9517c618-3186-4268-d7d8-a20921b4cac2"
   },
   "outputs": [
    {
     "name": "stdout",
     "output_type": "stream",
     "text": [
      "Epoch 1/50\n",
      " - 1s - loss: 0.0067\n",
      "Epoch 2/50\n",
      " - 0s - loss: 0.0037\n",
      "Epoch 3/50\n",
      " - 0s - loss: 0.0029\n",
      "Epoch 4/50\n",
      " - 0s - loss: 0.0023\n",
      "Epoch 5/50\n",
      " - 0s - loss: 0.0020\n",
      "Epoch 6/50\n",
      " - 0s - loss: 0.0017\n",
      "Epoch 7/50\n",
      " - 0s - loss: 0.0016\n",
      "Epoch 8/50\n",
      " - 0s - loss: 0.0013\n",
      "Epoch 9/50\n",
      " - 0s - loss: 0.0015\n",
      "Epoch 10/50\n",
      " - 0s - loss: 0.0017\n",
      "Epoch 11/50\n",
      " - 0s - loss: 0.0015\n",
      "Epoch 12/50\n",
      " - 0s - loss: 0.0013\n",
      "Epoch 13/50\n",
      " - 0s - loss: 0.0014\n",
      "Epoch 14/50\n",
      " - 0s - loss: 0.0015\n",
      "Epoch 15/50\n",
      " - 0s - loss: 0.0013\n",
      "Epoch 16/50\n",
      " - 0s - loss: 0.0013\n",
      "Epoch 17/50\n",
      " - 0s - loss: 0.0015\n",
      "Epoch 18/50\n",
      " - 0s - loss: 0.0010\n",
      "Epoch 19/50\n",
      " - 0s - loss: 0.0014\n",
      "Epoch 20/50\n",
      " - 0s - loss: 0.0011\n",
      "Epoch 21/50\n",
      " - 0s - loss: 0.0013\n",
      "Epoch 22/50\n",
      " - 0s - loss: 0.0011\n",
      "Epoch 23/50\n",
      " - 0s - loss: 0.0014\n",
      "Epoch 24/50\n",
      " - 0s - loss: 0.0012\n",
      "Epoch 25/50\n",
      " - 0s - loss: 0.0011\n",
      "Epoch 26/50\n",
      " - 0s - loss: 0.0012\n",
      "Epoch 27/50\n",
      " - 0s - loss: 0.0011\n",
      "Epoch 28/50\n",
      " - 0s - loss: 0.0012\n",
      "Epoch 29/50\n",
      " - 0s - loss: 0.0011\n",
      "Epoch 30/50\n",
      " - 0s - loss: 0.0011\n",
      "Epoch 31/50\n",
      " - 0s - loss: 9.9908e-04\n",
      "Epoch 32/50\n",
      " - 0s - loss: 8.3168e-04\n",
      "Epoch 33/50\n",
      " - 0s - loss: 0.0010\n",
      "Epoch 34/50\n",
      " - 0s - loss: 9.9158e-04\n",
      "Epoch 35/50\n",
      " - 0s - loss: 0.0010\n",
      "Epoch 36/50\n",
      " - 0s - loss: 0.0012\n",
      "Epoch 37/50\n",
      " - 0s - loss: 8.7689e-04\n",
      "Epoch 38/50\n",
      " - 0s - loss: 9.0195e-04\n",
      "Epoch 39/50\n",
      " - 0s - loss: 8.5850e-04\n",
      "Epoch 40/50\n",
      " - 0s - loss: 9.7926e-04\n",
      "Epoch 41/50\n",
      " - 0s - loss: 9.3672e-04\n",
      "Epoch 42/50\n",
      " - 0s - loss: 7.9292e-04\n",
      "Epoch 43/50\n",
      " - 0s - loss: 8.0289e-04\n",
      "Epoch 44/50\n",
      " - 0s - loss: 9.1049e-04\n",
      "Epoch 45/50\n",
      " - 0s - loss: 7.5193e-04\n",
      "Epoch 46/50\n",
      " - 0s - loss: 7.1254e-04\n",
      "Epoch 47/50\n",
      " - 0s - loss: 8.3565e-04\n",
      "Epoch 48/50\n",
      " - 0s - loss: 8.3214e-04\n",
      "Epoch 49/50\n",
      " - 0s - loss: 7.6998e-04\n",
      "Epoch 50/50\n",
      " - 0s - loss: 7.2461e-04\n"
     ]
    },
    {
     "data": {
      "text/plain": [
       "<keras.callbacks.History at 0x7fd4cacb4ad0>"
      ]
     },
     "execution_count": 24,
     "metadata": {
      "tags": []
     },
     "output_type": "execute_result"
    }
   ],
   "source": [
    "model.fit(X_train, y_train, epochs=50, batch_size=32, verbose=2)"
   ]
  },
  {
   "cell_type": "code",
   "execution_count": 25,
   "metadata": {
    "colab": {
     "base_uri": "https://localhost:8080/",
     "height": 68
    },
    "colab_type": "code",
    "id": "e8ZX1oz-cpM3",
    "outputId": "397d96c2-001d-4613-afd2-bf816234fb07"
   },
   "outputs": [
    {
     "name": "stdout",
     "output_type": "stream",
     "text": [
      "baseline test score = 204.78 RMSE\n",
      "train score = 99.62 RMSE\n",
      "test score = 199.76 RMSE\n"
     ]
    }
   ],
   "source": [
    "baseline_testScore = min_max_scaler.inverse_transform(np.array([[mean_squared_error(y_test[10:], y_test[:-10])**.5]]))\n",
    "trainScore = min_max_scaler.inverse_transform(np.array([[model.evaluate(X_train, y_train, verbose=0)**.5]]))\n",
    "testScore = min_max_scaler.inverse_transform(np.array([[model.evaluate(X_test, y_test, verbose=0)**.5]]))\n",
    "\n",
    "print('baseline test score = %.2f RMSE' % baseline_testScore)\n",
    "print('train score = %.2f RMSE' % trainScore)\n",
    "print('test score = %.2f RMSE' % testScore)"
   ]
  },
  {
   "cell_type": "code",
   "execution_count": 0,
   "metadata": {
    "colab": {},
    "colab_type": "code",
    "id": "YGs5fLkKcsxD"
   },
   "outputs": [],
   "source": [
    "# generate predictions\n",
    "y_train_pred = model.predict(X_train)\n",
    "y_test_pred = model.predict(X_test)"
   ]
  },
  {
   "cell_type": "code",
   "execution_count": 0,
   "metadata": {
    "colab": {},
    "colab_type": "code",
    "id": "KvhZ3Wr2czaF"
   },
   "outputs": [],
   "source": [
    "y = np.append(y_train, y_test)\n",
    "y_pred = np.append(y_train_pred, y_test_pred)"
   ]
  },
  {
   "cell_type": "code",
   "execution_count": 28,
   "metadata": {
    "colab": {
     "base_uri": "https://localhost:8080/",
     "height": 631
    },
    "colab_type": "code",
    "id": "vhzC9Dm4c1o4",
    "outputId": "5e0aeb07-bfa1-4cbd-ee9a-c1fdfff12dbb"
   },
   "outputs": [
    {
     "data": {
      "text/plain": [
       "<matplotlib.legend.Legend at 0x7fd4c7506d90>"
      ]
     },
     "execution_count": 28,
     "metadata": {
      "tags": []
     },
     "output_type": "execute_result"
    },
    {
     "data": {
      "image/png": "[encoded data removed]",
      "text/plain": [
       "<matplotlib.figure.Figure at 0x7fd4c74ef850>"
      ]
     },
     "metadata": {
      "tags": []
     },
     "output_type": "display_data"
    }
   ],
   "source": [
    "nn = 10000\n",
    "plt.figure(figsize=(25,10))\n",
    "\n",
    "plt.plot(dataframe['Time'][5:][-nn:], y[-nn:], linestyle='solid', color='green', label='train_data + test_data')\n",
    "plt.plot(dataframe['Time'][5:][-nn:], y_pred[-nn:], linestyle='solid', color='blue', label='prediction')\n",
    "\n",
    "plt.legend()"
   ]
  },
  {
   "cell_type": "code",
   "execution_count": 0,
   "metadata": {
    "colab": {},
    "colab_type": "code",
    "id": "wHEhei6Pc4Yd"
   },
   "outputs": [],
   "source": []
  }
 ],
 "metadata": {
  "colab": {
   "name": "Apple_Stock_Analysis_LSTM.ipynb",
   "provenance": [],
   "version": "0.3.2"
  },
  "kernelspec": {
   "display_name": "Python 3",
   "language": "python",
   "name": "python3"
  },
  "language_info": {
   "codemirror_mode": {
    "name": "ipython",
    "version": 3
   },
   "file_extension": ".py",
   "mimetype": "text/x-python",
   "name": "python",
   "nbconvert_exporter": "python",
   "pygments_lexer": "ipython3",
   "version": "3.6.6"
  }
 },
 "nbformat": 4,
 "nbformat_minor": 1
}
