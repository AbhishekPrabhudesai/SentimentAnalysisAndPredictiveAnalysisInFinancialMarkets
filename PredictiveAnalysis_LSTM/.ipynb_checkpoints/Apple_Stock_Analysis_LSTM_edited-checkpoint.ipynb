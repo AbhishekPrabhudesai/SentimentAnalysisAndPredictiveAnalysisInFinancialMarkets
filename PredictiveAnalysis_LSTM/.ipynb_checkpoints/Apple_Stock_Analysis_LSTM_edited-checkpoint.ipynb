{
 "cells": [
  {
   "cell_type": "code",
   "execution_count": 202,
   "metadata": {
    "colab": {
     "base_uri": "https://localhost:8080/",
     "height": 1779
    },
    "colab_type": "code",
    "executionInfo": {
     "elapsed": 14384,
     "status": "ok",
     "timestamp": 1543701442891,
     "user": {
      "displayName": "Shared 98999",
      "photoUrl": "",
      "userId": "02966646165121999534"
     },
     "user_tz": 480
    },
    "id": "ghq1-2eyb6wT",
    "outputId": "7c86c8a3-ca35-4b9d-8068-66d3b1d1fbec"
   },
   "outputs": [],
   "source": [
    "#!pip install tensorflow\n",
    "#!pip install keras\n",
    "#!pip install hyperopt\n",
    "#!pip install hyperas\n",
    "#!pip install seaborn"
   ]
  },
  {
   "cell_type": "code",
   "execution_count": 203,
   "metadata": {
    "colab": {},
    "colab_type": "code",
    "id": "4OgJDY9wb6wi"
   },
   "outputs": [],
   "source": [
    "#!pip install tensorflow.keras"
   ]
  },
  {
   "cell_type": "code",
   "execution_count": 204,
   "metadata": {
    "colab": {
     "base_uri": "https://localhost:8080/",
     "height": 90
    },
    "colab_type": "code",
    "executionInfo": {
     "elapsed": 15438,
     "status": "ok",
     "timestamp": 1543701443967,
     "user": {
      "displayName": "Shared 98999",
      "photoUrl": "",
      "userId": "02966646165121999534"
     },
     "user_tz": 480
    },
    "id": "P3zO-Tr5b6wo",
    "outputId": "8d56989a-ba40-4886-b4b5-28922cb9576f"
   },
   "outputs": [],
   "source": [
    "import numpy as np\n",
    "import matplotlib.pyplot as plt\n",
    "import pandas as pd\n",
    "import math\n",
    "import time\n",
    "from keras.models import Sequential\n",
    "from keras.layers.core import Dense, Activation, Dropout\n",
    "from keras.layers import Dense\n",
    "from keras.layers import LSTM\n",
    "from sklearn import cross_validation\n",
    "from sklearn.metrics import mean_squared_error\n",
    "from sklearn.preprocessing import MinMaxScaler\n",
    "import os\n",
    "\n",
    "%matplotlib inline"
   ]
  },
  {
   "cell_type": "code",
   "execution_count": 205,
   "metadata": {
    "colab": {
     "base_uri": "https://localhost:8080/",
     "height": 211
    },
    "colab_type": "code",
    "executionInfo": {
     "elapsed": 18647,
     "status": "ok",
     "timestamp": 1543701447191,
     "user": {
      "displayName": "Shared 98999",
      "photoUrl": "",
      "userId": "02966646165121999534"
     },
     "user_tz": 480
    },
    "id": "RMqnpeN4b6wv",
    "outputId": "fe836da7-8851-42dc-c0ac-9b54afec0211"
   },
   "outputs": [],
   "source": [
    "#!pip install intrinio"
   ]
  },
  {
   "cell_type": "code",
   "execution_count": 206,
   "metadata": {
    "colab": {},
    "colab_type": "code",
    "id": "hoYNfrJqb6w2"
   },
   "outputs": [],
   "source": [
    "import intrinio"
   ]
  },
  {
   "cell_type": "code",
   "execution_count": 207,
   "metadata": {
    "colab": {},
    "colab_type": "code",
    "id": "Tv_5UNvjb6w9"
   },
   "outputs": [],
   "source": [
    "intrinio.client.username = '743b5f438c88000ffc6332758029b212'\n",
    "intrinio.client.password = 'ce548e14e41df641d828602e11612375'"
   ]
  },
  {
   "cell_type": "code",
   "execution_count": 208,
   "metadata": {
    "colab": {},
    "colab_type": "code",
    "id": "i17YZZNRb6xD"
   },
   "outputs": [],
   "source": [
    "stock_data = intrinio.prices('AAPL', start_date='2014-01-01', end_date='2018-10-03')"
   ]
  },
  {
   "cell_type": "code",
   "execution_count": 209,
   "metadata": {
    "colab": {
     "base_uri": "https://localhost:8080/",
     "height": 233
    },
    "colab_type": "code",
    "executionInfo": {
     "elapsed": 19098,
     "status": "ok",
     "timestamp": 1543701447660,
     "user": {
      "displayName": "Shared 98999",
      "photoUrl": "",
      "userId": "02966646165121999534"
     },
     "user_tz": 480
    },
    "id": "QxDPZSalb6xK",
    "outputId": "22e75bb7-d458-43de-e32f-6f7375872b2f"
   },
   "outputs": [
    {
     "data": {
      "text/html": [
       "<div>\n",
       "<style scoped>\n",
       "    .dataframe tbody tr th:only-of-type {\n",
       "        vertical-align: middle;\n",
       "    }\n",
       "\n",
       "    .dataframe tbody tr th {\n",
       "        vertical-align: top;\n",
       "    }\n",
       "\n",
       "    .dataframe thead th {\n",
       "        text-align: right;\n",
       "    }\n",
       "</style>\n",
       "<table border=\"1\" class=\"dataframe\">\n",
       "  <thead>\n",
       "    <tr style=\"text-align: right;\">\n",
       "      <th></th>\n",
       "      <th>adj_close</th>\n",
       "      <th>adj_factor</th>\n",
       "      <th>adj_high</th>\n",
       "      <th>adj_low</th>\n",
       "      <th>adj_open</th>\n",
       "      <th>adj_volume</th>\n",
       "      <th>close</th>\n",
       "      <th>ex_dividend</th>\n",
       "      <th>high</th>\n",
       "      <th>low</th>\n",
       "      <th>open</th>\n",
       "      <th>split_ratio</th>\n",
       "      <th>volume</th>\n",
       "    </tr>\n",
       "    <tr>\n",
       "      <th>date</th>\n",
       "      <th></th>\n",
       "      <th></th>\n",
       "      <th></th>\n",
       "      <th></th>\n",
       "      <th></th>\n",
       "      <th></th>\n",
       "      <th></th>\n",
       "      <th></th>\n",
       "      <th></th>\n",
       "      <th></th>\n",
       "      <th></th>\n",
       "      <th></th>\n",
       "      <th></th>\n",
       "    </tr>\n",
       "  </thead>\n",
       "  <tbody>\n",
       "    <tr>\n",
       "      <th>2018-10-03</th>\n",
       "      <td>231.263088</td>\n",
       "      <td>1.0</td>\n",
       "      <td>232.658221</td>\n",
       "      <td>228.981051</td>\n",
       "      <td>229.250112</td>\n",
       "      <td>28654799.0</td>\n",
       "      <td>232.07</td>\n",
       "      <td>0.0</td>\n",
       "      <td>233.47</td>\n",
       "      <td>229.78</td>\n",
       "      <td>230.05</td>\n",
       "      <td>1.0</td>\n",
       "      <td>28654799.0</td>\n",
       "    </tr>\n",
       "    <tr>\n",
       "      <th>2018-10-02</th>\n",
       "      <td>228.482789</td>\n",
       "      <td>1.0</td>\n",
       "      <td>229.200286</td>\n",
       "      <td>225.842003</td>\n",
       "      <td>226.459848</td>\n",
       "      <td>24788170.0</td>\n",
       "      <td>229.28</td>\n",
       "      <td>0.0</td>\n",
       "      <td>230.00</td>\n",
       "      <td>226.63</td>\n",
       "      <td>227.25</td>\n",
       "      <td>1.0</td>\n",
       "      <td>24788170.0</td>\n",
       "    </tr>\n",
       "    <tr>\n",
       "      <th>2018-10-01</th>\n",
       "      <td>226.469813</td>\n",
       "      <td>1.0</td>\n",
       "      <td>228.622302</td>\n",
       "      <td>225.562977</td>\n",
       "      <td>227.157414</td>\n",
       "      <td>23600802.0</td>\n",
       "      <td>227.26</td>\n",
       "      <td>0.0</td>\n",
       "      <td>229.42</td>\n",
       "      <td>226.35</td>\n",
       "      <td>227.95</td>\n",
       "      <td>1.0</td>\n",
       "      <td>23600802.0</td>\n",
       "    </tr>\n",
       "    <tr>\n",
       "      <th>2018-09-28</th>\n",
       "      <td>224.955098</td>\n",
       "      <td>1.0</td>\n",
       "      <td>225.054750</td>\n",
       "      <td>223.241078</td>\n",
       "      <td>224.008401</td>\n",
       "      <td>22929364.0</td>\n",
       "      <td>225.74</td>\n",
       "      <td>0.0</td>\n",
       "      <td>225.84</td>\n",
       "      <td>224.02</td>\n",
       "      <td>224.79</td>\n",
       "      <td>1.0</td>\n",
       "      <td>22929364.0</td>\n",
       "    </tr>\n",
       "    <tr>\n",
       "      <th>2018-09-27</th>\n",
       "      <td>224.167845</td>\n",
       "      <td>1.0</td>\n",
       "      <td>225.652664</td>\n",
       "      <td>222.762747</td>\n",
       "      <td>223.041774</td>\n",
       "      <td>30181227.0</td>\n",
       "      <td>224.95</td>\n",
       "      <td>0.0</td>\n",
       "      <td>226.44</td>\n",
       "      <td>223.54</td>\n",
       "      <td>223.82</td>\n",
       "      <td>1.0</td>\n",
       "      <td>30181227.0</td>\n",
       "    </tr>\n",
       "  </tbody>\n",
       "</table>\n",
       "</div>"
      ],
      "text/plain": [
       "             adj_close  adj_factor    adj_high     adj_low    adj_open  \\\n",
       "date                                                                     \n",
       "2018-10-03  231.263088         1.0  232.658221  228.981051  229.250112   \n",
       "2018-10-02  228.482789         1.0  229.200286  225.842003  226.459848   \n",
       "2018-10-01  226.469813         1.0  228.622302  225.562977  227.157414   \n",
       "2018-09-28  224.955098         1.0  225.054750  223.241078  224.008401   \n",
       "2018-09-27  224.167845         1.0  225.652664  222.762747  223.041774   \n",
       "\n",
       "            adj_volume   close  ex_dividend    high     low    open  \\\n",
       "date                                                                  \n",
       "2018-10-03  28654799.0  232.07          0.0  233.47  229.78  230.05   \n",
       "2018-10-02  24788170.0  229.28          0.0  230.00  226.63  227.25   \n",
       "2018-10-01  23600802.0  227.26          0.0  229.42  226.35  227.95   \n",
       "2018-09-28  22929364.0  225.74          0.0  225.84  224.02  224.79   \n",
       "2018-09-27  30181227.0  224.95          0.0  226.44  223.54  223.82   \n",
       "\n",
       "            split_ratio      volume  \n",
       "date                                 \n",
       "2018-10-03          1.0  28654799.0  \n",
       "2018-10-02          1.0  24788170.0  \n",
       "2018-10-01          1.0  23600802.0  \n",
       "2018-09-28          1.0  22929364.0  \n",
       "2018-09-27          1.0  30181227.0  "
      ]
     },
     "execution_count": 209,
     "metadata": {},
     "output_type": "execute_result"
    }
   ],
   "source": [
    "stock_data.head()"
   ]
  },
  {
   "cell_type": "code",
   "execution_count": 210,
   "metadata": {
    "colab": {},
    "colab_type": "code",
    "id": "9kpD-MU6b6xW"
   },
   "outputs": [],
   "source": [
    "dataframe = pd.DataFrame(stock_data)"
   ]
  },
  {
   "cell_type": "code",
   "execution_count": 211,
   "metadata": {},
   "outputs": [],
   "source": [
    "reversed_df = dataframe.iloc[::-1]"
   ]
  },
  {
   "cell_type": "code",
   "execution_count": 212,
   "metadata": {},
   "outputs": [
    {
     "data": {
      "text/html": [
       "<div>\n",
       "<style scoped>\n",
       "    .dataframe tbody tr th:only-of-type {\n",
       "        vertical-align: middle;\n",
       "    }\n",
       "\n",
       "    .dataframe tbody tr th {\n",
       "        vertical-align: top;\n",
       "    }\n",
       "\n",
       "    .dataframe thead th {\n",
       "        text-align: right;\n",
       "    }\n",
       "</style>\n",
       "<table border=\"1\" class=\"dataframe\">\n",
       "  <thead>\n",
       "    <tr style=\"text-align: right;\">\n",
       "      <th></th>\n",
       "      <th>adj_close</th>\n",
       "      <th>adj_factor</th>\n",
       "      <th>adj_high</th>\n",
       "      <th>adj_low</th>\n",
       "      <th>adj_open</th>\n",
       "      <th>adj_volume</th>\n",
       "      <th>close</th>\n",
       "      <th>ex_dividend</th>\n",
       "      <th>high</th>\n",
       "      <th>low</th>\n",
       "      <th>open</th>\n",
       "      <th>split_ratio</th>\n",
       "      <th>volume</th>\n",
       "    </tr>\n",
       "    <tr>\n",
       "      <th>date</th>\n",
       "      <th></th>\n",
       "      <th></th>\n",
       "      <th></th>\n",
       "      <th></th>\n",
       "      <th></th>\n",
       "      <th></th>\n",
       "      <th></th>\n",
       "      <th></th>\n",
       "      <th></th>\n",
       "      <th></th>\n",
       "      <th></th>\n",
       "      <th></th>\n",
       "      <th></th>\n",
       "    </tr>\n",
       "  </thead>\n",
       "  <tbody>\n",
       "    <tr>\n",
       "      <th>2014-01-02</th>\n",
       "      <td>72.175589</td>\n",
       "      <td>1.0</td>\n",
       "      <td>72.684484</td>\n",
       "      <td>72.030881</td>\n",
       "      <td>72.508328</td>\n",
       "      <td>58791957.0</td>\n",
       "      <td>553.1300</td>\n",
       "      <td>0.0</td>\n",
       "      <td>557.03</td>\n",
       "      <td>552.021</td>\n",
       "      <td>555.68</td>\n",
       "      <td>1.0</td>\n",
       "      <td>8398851.0</td>\n",
       "    </tr>\n",
       "    <tr>\n",
       "      <th>2014-01-03</th>\n",
       "      <td>70.590187</td>\n",
       "      <td>1.0</td>\n",
       "      <td>72.249966</td>\n",
       "      <td>70.518420</td>\n",
       "      <td>72.158626</td>\n",
       "      <td>98303870.0</td>\n",
       "      <td>540.9800</td>\n",
       "      <td>0.0</td>\n",
       "      <td>553.70</td>\n",
       "      <td>540.430</td>\n",
       "      <td>553.00</td>\n",
       "      <td>1.0</td>\n",
       "      <td>14043410.0</td>\n",
       "    </tr>\n",
       "    <tr>\n",
       "      <th>2014-01-06</th>\n",
       "      <td>70.975120</td>\n",
       "      <td>1.0</td>\n",
       "      <td>71.349614</td>\n",
       "      <td>69.627202</td>\n",
       "      <td>70.134792</td>\n",
       "      <td>103359151.0</td>\n",
       "      <td>543.9300</td>\n",
       "      <td>0.0</td>\n",
       "      <td>546.80</td>\n",
       "      <td>533.600</td>\n",
       "      <td>537.49</td>\n",
       "      <td>1.0</td>\n",
       "      <td>14765593.0</td>\n",
       "    </tr>\n",
       "    <tr>\n",
       "      <th>2014-01-07</th>\n",
       "      <td>70.467204</td>\n",
       "      <td>1.0</td>\n",
       "      <td>71.240006</td>\n",
       "      <td>70.191553</td>\n",
       "      <td>71.026010</td>\n",
       "      <td>79432766.0</td>\n",
       "      <td>540.0375</td>\n",
       "      <td>0.0</td>\n",
       "      <td>545.96</td>\n",
       "      <td>537.925</td>\n",
       "      <td>544.32</td>\n",
       "      <td>1.0</td>\n",
       "      <td>11347538.0</td>\n",
       "    </tr>\n",
       "    <tr>\n",
       "      <th>2014-01-08</th>\n",
       "      <td>70.913792</td>\n",
       "      <td>1.0</td>\n",
       "      <td>71.187812</td>\n",
       "      <td>70.291375</td>\n",
       "      <td>70.307033</td>\n",
       "      <td>64686685.0</td>\n",
       "      <td>543.4600</td>\n",
       "      <td>0.0</td>\n",
       "      <td>545.56</td>\n",
       "      <td>538.690</td>\n",
       "      <td>538.81</td>\n",
       "      <td>1.0</td>\n",
       "      <td>9240955.0</td>\n",
       "    </tr>\n",
       "  </tbody>\n",
       "</table>\n",
       "</div>"
      ],
      "text/plain": [
       "            adj_close  adj_factor   adj_high    adj_low   adj_open  \\\n",
       "date                                                                 \n",
       "2014-01-02  72.175589         1.0  72.684484  72.030881  72.508328   \n",
       "2014-01-03  70.590187         1.0  72.249966  70.518420  72.158626   \n",
       "2014-01-06  70.975120         1.0  71.349614  69.627202  70.134792   \n",
       "2014-01-07  70.467204         1.0  71.240006  70.191553  71.026010   \n",
       "2014-01-08  70.913792         1.0  71.187812  70.291375  70.307033   \n",
       "\n",
       "             adj_volume     close  ex_dividend    high      low    open  \\\n",
       "date                                                                      \n",
       "2014-01-02   58791957.0  553.1300          0.0  557.03  552.021  555.68   \n",
       "2014-01-03   98303870.0  540.9800          0.0  553.70  540.430  553.00   \n",
       "2014-01-06  103359151.0  543.9300          0.0  546.80  533.600  537.49   \n",
       "2014-01-07   79432766.0  540.0375          0.0  545.96  537.925  544.32   \n",
       "2014-01-08   64686685.0  543.4600          0.0  545.56  538.690  538.81   \n",
       "\n",
       "            split_ratio      volume  \n",
       "date                                 \n",
       "2014-01-02          1.0   8398851.0  \n",
       "2014-01-03          1.0  14043410.0  \n",
       "2014-01-06          1.0  14765593.0  \n",
       "2014-01-07          1.0  11347538.0  \n",
       "2014-01-08          1.0   9240955.0  "
      ]
     },
     "execution_count": 212,
     "metadata": {},
     "output_type": "execute_result"
    }
   ],
   "source": [
    "reversed_df.head()"
   ]
  },
  {
   "cell_type": "code",
   "execution_count": 213,
   "metadata": {
    "colab": {},
    "colab_type": "code",
    "id": "w15gtjCNb6xg"
   },
   "outputs": [],
   "source": [
    "#df.ix[:, 'high':'low']"
   ]
  },
  {
   "cell_type": "code",
   "execution_count": 214,
   "metadata": {
    "colab": {},
    "colab_type": "code",
    "id": "Ls7hDvz6b6xn"
   },
   "outputs": [
    {
     "name": "stderr",
     "output_type": "stream",
     "text": [
      "C:\\Users\\Abhishek\\Anaconda3\\lib\\site-packages\\ipykernel_launcher.py:1: SettingWithCopyWarning: \n",
      "A value is trying to be set on a copy of a slice from a DataFrame.\n",
      "Try using .loc[row_indexer,col_indexer] = value instead\n",
      "\n",
      "See the caveats in the documentation: http://pandas.pydata.org/pandas-docs/stable/indexing.html#indexing-view-versus-copy\n",
      "  \"\"\"Entry point for launching an IPython kernel.\n"
     ]
    }
   ],
   "source": [
    "reversed_df['Time'] = reversed_df.index"
   ]
  },
  {
   "cell_type": "code",
   "execution_count": 215,
   "metadata": {
    "colab": {
     "base_uri": "https://localhost:8080/",
     "height": 233
    },
    "colab_type": "code",
    "executionInfo": {
     "elapsed": 19093,
     "status": "ok",
     "timestamp": 1543701447667,
     "user": {
      "displayName": "Shared 98999",
      "photoUrl": "",
      "userId": "02966646165121999534"
     },
     "user_tz": 480
    },
    "id": "kfR_y9W6b6xs",
    "outputId": "57a4a3a9-a0b5-4794-b623-b890bdedc5e1"
   },
   "outputs": [],
   "source": [
    "#dataframe.head()"
   ]
  },
  {
   "cell_type": "code",
   "execution_count": null,
   "metadata": {
    "colab": {},
    "colab_type": "code",
    "id": "UU5ZcJyAb6x6"
   },
   "outputs": [],
   "source": []
  },
  {
   "cell_type": "code",
   "execution_count": 216,
   "metadata": {
    "colab": {
     "base_uri": "https://localhost:8080/",
     "height": 233
    },
    "colab_type": "code",
    "executionInfo": {
     "elapsed": 19421,
     "status": "ok",
     "timestamp": 1543701448005,
     "user": {
      "displayName": "Shared 98999",
      "photoUrl": "",
      "userId": "02966646165121999534"
     },
     "user_tz": 480
    },
    "id": "vfrBhkEwb6yA",
    "outputId": "216cdf21-9079-432b-fba0-896aa0a8f773"
   },
   "outputs": [
    {
     "name": "stderr",
     "output_type": "stream",
     "text": [
      "C:\\Users\\Abhishek\\Anaconda3\\lib\\site-packages\\ipykernel_launcher.py:4: SettingWithCopyWarning: \n",
      "A value is trying to be set on a copy of a slice from a DataFrame.\n",
      "Try using .loc[row_indexer,col_indexer] = value instead\n",
      "\n",
      "See the caveats in the documentation: http://pandas.pydata.org/pandas-docs/stable/indexing.html#indexing-view-versus-copy\n",
      "  after removing the cwd from sys.path.\n"
     ]
    },
    {
     "data": {
      "text/html": [
       "<div>\n",
       "<style scoped>\n",
       "    .dataframe tbody tr th:only-of-type {\n",
       "        vertical-align: middle;\n",
       "    }\n",
       "\n",
       "    .dataframe tbody tr th {\n",
       "        vertical-align: top;\n",
       "    }\n",
       "\n",
       "    .dataframe thead th {\n",
       "        text-align: right;\n",
       "    }\n",
       "</style>\n",
       "<table border=\"1\" class=\"dataframe\">\n",
       "  <thead>\n",
       "    <tr style=\"text-align: right;\">\n",
       "      <th></th>\n",
       "      <th>Time</th>\n",
       "      <th>First</th>\n",
       "      <th>Last</th>\n",
       "    </tr>\n",
       "    <tr>\n",
       "      <th>date</th>\n",
       "      <th></th>\n",
       "      <th></th>\n",
       "      <th></th>\n",
       "    </tr>\n",
       "  </thead>\n",
       "  <tbody>\n",
       "    <tr>\n",
       "      <th>2014-01-02</th>\n",
       "      <td>2014-01-02</td>\n",
       "      <td>72.684484</td>\n",
       "      <td>72.030881</td>\n",
       "    </tr>\n",
       "    <tr>\n",
       "      <th>2014-01-03</th>\n",
       "      <td>2014-01-03</td>\n",
       "      <td>72.249966</td>\n",
       "      <td>70.518420</td>\n",
       "    </tr>\n",
       "    <tr>\n",
       "      <th>2014-01-06</th>\n",
       "      <td>2014-01-06</td>\n",
       "      <td>71.349614</td>\n",
       "      <td>69.627202</td>\n",
       "    </tr>\n",
       "    <tr>\n",
       "      <th>2014-01-07</th>\n",
       "      <td>2014-01-07</td>\n",
       "      <td>71.240006</td>\n",
       "      <td>70.191553</td>\n",
       "    </tr>\n",
       "    <tr>\n",
       "      <th>2014-01-08</th>\n",
       "      <td>2014-01-08</td>\n",
       "      <td>71.187812</td>\n",
       "      <td>70.291375</td>\n",
       "    </tr>\n",
       "  </tbody>\n",
       "</table>\n",
       "</div>"
      ],
      "text/plain": [
       "                 Time      First       Last\n",
       "date                                       \n",
       "2014-01-02 2014-01-02  72.684484  72.030881\n",
       "2014-01-03 2014-01-03  72.249966  70.518420\n",
       "2014-01-06 2014-01-06  71.349614  69.627202\n",
       "2014-01-07 2014-01-07  71.240006  70.191553\n",
       "2014-01-08 2014-01-08  71.187812  70.291375"
      ]
     },
     "execution_count": 216,
     "metadata": {},
     "output_type": "execute_result"
    }
   ],
   "source": [
    "#dataframe.columns = ['First', 'Last', '']\n",
    "dataframe = reversed_df[['Time','adj_high','adj_low']]\n",
    "dataframe.columns = ['Time', 'First', 'Last']\n",
    "dataframe['Time']=pd.to_datetime(dataframe['Time'],infer_datetime_format=True)\n",
    "dataframe.head()"
   ]
  },
  {
   "cell_type": "code",
   "execution_count": 217,
   "metadata": {
    "colab": {
     "base_uri": "https://localhost:8080/",
     "height": 303
    },
    "colab_type": "code",
    "executionInfo": {
     "elapsed": 19411,
     "status": "ok",
     "timestamp": 1543701448005,
     "user": {
      "displayName": "Shared 98999",
      "photoUrl": "",
      "userId": "02966646165121999534"
     },
     "user_tz": 480
    },
    "id": "AGYnNLe2b6yJ",
    "outputId": "12195c2a-f3f2-4727-cbb9-6a990f79eb27"
   },
   "outputs": [
    {
     "name": "stdout",
     "output_type": "stream",
     "text": [
      "AxesSubplot(0.125,0.2;0.775x0.68)\n"
     ]
    },
    {
     "name": "stderr",
     "output_type": "stream",
     "text": [
      "C:\\Users\\Abhishek\\Anaconda3\\lib\\site-packages\\ipykernel_launcher.py:3: SettingWithCopyWarning: \n",
      "A value is trying to be set on a copy of a slice from a DataFrame.\n",
      "Try using .loc[row_indexer,col_indexer] = value instead\n",
      "\n",
      "See the caveats in the documentation: http://pandas.pydata.org/pandas-docs/stable/indexing.html#indexing-view-versus-copy\n",
      "  This is separate from the ipykernel package so we can avoid doing imports until\n"
     ]
    },
    {
     "data": {
      "text/plain": [
       "array([ 72.35768213,  71.38419311,  70.48840836, ..., 227.09263968,\n",
       "       227.52114456, 230.81963563])"
      ]
     },
     "execution_count": 217,
     "metadata": {},
     "output_type": "execute_result"
    },
    {
     "data": {
      "image/png": "[encoded data removed]",
      "text/plain": [
       "<Figure size 432x288 with 1 Axes>"
      ]
     },
     "metadata": {},
     "output_type": "display_data"
    }
   ],
   "source": [
    "#Take Average value of opening and closing stock for smoothness\n",
    "\n",
    "dataframe['Avg'] = (0.5*(dataframe['First'] + dataframe['Last']))\n",
    "plot_df = dataframe[['Time', 'Avg']]\n",
    "print(plot_df.set_index(plot_df.Time)['Avg'].plot())\n",
    "dataset = dataframe.Avg.values\n",
    "dataset"
   ]
  },
  {
   "cell_type": "code",
   "execution_count": 218,
   "metadata": {
    "colab": {
     "base_uri": "https://localhost:8080/",
     "height": 70
    },
    "colab_type": "code",
    "executionInfo": {
     "elapsed": 19518,
     "status": "ok",
     "timestamp": 1543701448126,
     "user": {
      "displayName": "Shared 98999",
      "photoUrl": "",
      "userId": "02966646165121999534"
     },
     "user_tz": 480
    },
    "id": "gHJCnEc8b6yT",
    "outputId": "d2307a40-8c13-459e-dee2-be873882183a"
   },
   "outputs": [
    {
     "name": "stdout",
     "output_type": "stream",
     "text": [
      "[ 72.35768213  71.38419311  70.48840836 ... 227.09263968 227.52114456\n",
      " 230.81963563]\n"
     ]
    },
    {
     "data": {
      "text/plain": [
       "array([0.04482156, 0.03895356, 0.03355394, ..., 0.97753438, 0.98011732,\n",
       "       1.        ])"
      ]
     },
     "execution_count": 218,
     "metadata": {},
     "output_type": "execute_result"
    }
   ],
   "source": [
    "#Scaling the data set\n",
    "dataset = (0.5*(dataframe['First'] + dataframe['Last'])).values\n",
    "print(dataset)\n",
    "min_max_scaler = MinMaxScaler()\n",
    "nparr = np.array([dataset])\n",
    "dataset = min_max_scaler.fit_transform(np.reshape(nparr, (len(nparr[0]), 1)))\n",
    "dataset = np.reshape(dataset, (1, len(dataset)))[0]\n",
    "dataset"
   ]
  },
  {
   "cell_type": "code",
   "execution_count": 219,
   "metadata": {
    "colab": {},
    "colab_type": "code",
    "id": "sTywHLOTb6yZ"
   },
   "outputs": [],
   "source": [
    "#Time delay function create time sequence of given delay\n",
    "\n",
    "def timeDelay(data, delay):\n",
    "    X_data, y_data = [], []\n",
    "    #naive version, vectorized version can be implemented,\n",
    "    #but may run out of memory,\n",
    "    for i in range(delay, len(data)):\n",
    "        X_data.append(data[i - (delay):i].tolist())\n",
    "    X_data = np.array(X_data)\n",
    "    y_data = data[delay:]\n",
    "    print (X_data)\n",
    "    print(y_data)\n",
    "    \n",
    "    plt.plot(range(len(X_data.flatten())), X_data.flatten(), linestyle='solid', color='green', label='time delayed data')\n",
    "    plt.plot(range(len(y_data)), y_data, linestyle='solid', color='blue', label='original data')\n",
    "    \n",
    "    return np.reshape(X_data, (X_data.shape[0], X_data.shape[1], 1)), np.reshape(y_data, (len(y_data),))"
   ]
  },
  {
   "cell_type": "code",
   "execution_count": 220,
   "metadata": {
    "colab": {},
    "colab_type": "code",
    "id": "q4jyt8QKb6yo"
   },
   "outputs": [],
   "source": [
    "#Create LSTM\n",
    "\n",
    "def model():\n",
    "    model = Sequential()\n",
    "    #model.add(keras.layers.LSTM(hidden_nodes, input_shape=(window, num_features), consume_less=\"mem\"))\n",
    "    model.add(LSTM(4,input_shape=(5, 1), dropout=0.2))\n",
    "    #model.add(LSTM(2, dropout=0.2))\n",
    "    model.add(Dense(1))\n",
    "    start = time.time()\n",
    "    model.compile(loss=\"mse\", optimizer=\"rmsprop\")\n",
    "    print (\"Compilation Time : \", time.time() - start)\n",
    "    return model"
   ]
  },
  {
   "cell_type": "code",
   "execution_count": 221,
   "metadata": {
    "colab": {
     "base_uri": "https://localhost:8080/",
     "height": 265
    },
    "colab_type": "code",
    "executionInfo": {
     "elapsed": 19654,
     "status": "ok",
     "timestamp": 1543701448289,
     "user": {
      "displayName": "Shared 98999",
      "photoUrl": "",
      "userId": "02966646165121999534"
     },
     "user_tz": 480
    },
    "id": "g0G3X4tQb6yv",
    "outputId": "ca33846f-a888-4256-db19-6d0f8b79f2a0"
   },
   "outputs": [
    {
     "name": "stdout",
     "output_type": "stream",
     "text": [
      "[[0.04482156 0.03895356 0.03355394 0.03492449 0.03506803]\n",
      " [0.03895356 0.03355394 0.03492449 0.03506803 0.0342658 ]\n",
      " [0.03355394 0.03492449 0.03506803 0.0342658  0.03021506]\n",
      " ...\n",
      " [0.92383314 0.93773899 0.94071239 0.96014455 0.95978414]\n",
      " [0.93773899 0.94071239 0.96014455 0.95978414 0.97753438]\n",
      " [0.94071239 0.96014455 0.95978414 0.97753438 0.98011732]]\n",
      "[0.0342658  0.03021506 0.0303999  ... 0.97753438 0.98011732 1.        ]\n"
     ]
    },
    {
     "data": {
      "image/png": "[encoded data removed]",
      "text/plain": [
       "<Figure size 432x288 with 1 Axes>"
      ]
     },
     "metadata": {},
     "output_type": "display_data"
    }
   ],
   "source": [
    "#define parameters\n",
    "\n",
    "ratio = 0.8 # Training test ratio\n",
    "d = 10 # Delay\n",
    "X, y = timeDelay(dataset, d)\n",
    "n = int(ratio * len(X))"
   ]
  },
  {
   "cell_type": "code",
   "execution_count": 222,
   "metadata": {},
   "outputs": [
    {
     "name": "stdout",
     "output_type": "stream",
     "text": [
      "[[[0.04482156]\n",
      "  [0.03895356]\n",
      "  [0.03355394]\n",
      "  [0.03492449]\n",
      "  [0.03506803]]\n",
      "\n",
      " [[0.03895356]\n",
      "  [0.03355394]\n",
      "  [0.03492449]\n",
      "  [0.03506803]\n",
      "  [0.0342658 ]]\n",
      "\n",
      " [[0.03355394]\n",
      "  [0.03492449]\n",
      "  [0.03506803]\n",
      "  [0.0342658 ]\n",
      "  [0.03021506]]\n",
      "\n",
      " ...\n",
      "\n",
      " [[0.92383314]\n",
      "  [0.93773899]\n",
      "  [0.94071239]\n",
      "  [0.96014455]\n",
      "  [0.95978414]]\n",
      "\n",
      " [[0.93773899]\n",
      "  [0.94071239]\n",
      "  [0.96014455]\n",
      "  [0.95978414]\n",
      "  [0.97753438]]\n",
      "\n",
      " [[0.94071239]\n",
      "  [0.96014455]\n",
      "  [0.95978414]\n",
      "  [0.97753438]\n",
      "  [0.98011732]]]\n",
      "[0.0342658  0.03021506 0.0303999  ... 0.97753438 0.98011732 1.        ]\n"
     ]
    }
   ],
   "source": [
    "print(X)\n",
    "print(y)"
   ]
  },
  {
   "cell_type": "code",
   "execution_count": 223,
   "metadata": {
    "colab": {},
    "colab_type": "code",
    "id": "S6RM5VSNb6y2"
   },
   "outputs": [],
   "source": [
    "X_train, y_train = X[:n], y[:n]\n",
    "X_test, y_test = X[n:], y[n:]"
   ]
  },
  {
   "cell_type": "code",
   "execution_count": 224,
   "metadata": {
    "colab": {
     "base_uri": "https://localhost:8080/",
     "height": 630
    },
    "colab_type": "code",
    "executionInfo": {
     "elapsed": 20215,
     "status": "ok",
     "timestamp": 1543701448868,
     "user": {
      "displayName": "Shared 98999",
      "photoUrl": "",
      "userId": "02966646165121999534"
     },
     "user_tz": 480
    },
    "id": "bOLU4iGQb6y7",
    "outputId": "fff7ab5d-64bc-42ff-86ad-ce545b98dbd9"
   },
   "outputs": [
    {
     "data": {
      "text/plain": [
       "<matplotlib.legend.Legend at 0x1a6a5fc70f0>"
      ]
     },
     "execution_count": 224,
     "metadata": {},
     "output_type": "execute_result"
    },
    {
     "data": {
      "image/png": "[encoded data removed]",
      "text/plain": [
       "<Figure size 1800x720 with 1 Axes>"
      ]
     },
     "metadata": {},
     "output_type": "display_data"
    }
   ],
   "source": [
    "x_train_flattened = X_train.flatten()\n",
    "x_test_flattened = X_test.flatten()\n",
    "plt.figure(figsize=(25,10))\n",
    "plt.plot(range(len(x_train_flattened)), x_train_flattened, linestyle='solid', color='green', label='train_data')\n",
    "plt.plot(\n",
    "    range(len(x_train_flattened), len(x_train_flattened) + len(x_test_flattened)), \n",
    "    x_test_flattened, linestyle='solid', color='blue', label='test_data')\n",
    "plt.legend()"
   ]
  },
  {
   "cell_type": "code",
   "execution_count": 225,
   "metadata": {
    "colab": {
     "base_uri": "https://localhost:8080/",
     "height": 35
    },
    "colab_type": "code",
    "executionInfo": {
     "elapsed": 20418,
     "status": "ok",
     "timestamp": 1543701449085,
     "user": {
      "displayName": "Shared 98999",
      "photoUrl": "",
      "userId": "02966646165121999534"
     },
     "user_tz": 480
    },
    "id": "pzAnYtzXb6zA",
    "outputId": "57524230-c762-4781-9eac-2a487ab6a8c1"
   },
   "outputs": [
    {
     "name": "stdout",
     "output_type": "stream",
     "text": [
      "Compilation Time :  0.07534384727478027\n"
     ]
    }
   ],
   "source": [
    "model = model()"
   ]
  },
  {
   "cell_type": "code",
   "execution_count": 226,
   "metadata": {
    "colab": {
     "base_uri": "https://localhost:8080/",
     "height": 211
    },
    "colab_type": "code",
    "executionInfo": {
     "elapsed": 20408,
     "status": "ok",
     "timestamp": 1543701449086,
     "user": {
      "displayName": "Shared 98999",
      "photoUrl": "",
      "userId": "02966646165121999534"
     },
     "user_tz": 480
    },
    "id": "-vgTHk80b6zI",
    "outputId": "3888f937-e334-44e3-8380-3ad018c8dafa"
   },
   "outputs": [
    {
     "name": "stdout",
     "output_type": "stream",
     "text": [
      "_________________________________________________________________\n",
      "Layer (type)                 Output Shape              Param #   \n",
      "=================================================================\n",
      "lstm_13 (LSTM)               (None, 4)                 96        \n",
      "_________________________________________________________________\n",
      "dense_3 (Dense)              (None, 1)                 5         \n",
      "=================================================================\n",
      "Total params: 101\n",
      "Trainable params: 101\n",
      "Non-trainable params: 0\n",
      "_________________________________________________________________\n"
     ]
    }
   ],
   "source": [
    "model.summary()"
   ]
  },
  {
   "cell_type": "code",
   "execution_count": 227,
   "metadata": {
    "colab": {},
    "colab_type": "code",
    "id": "yWoTQYzyckcd"
   },
   "outputs": [
    {
     "name": "stdout",
     "output_type": "stream",
     "text": [
      "Epoch 1/50\n",
      " - 2s - loss: 0.0410\n",
      "Epoch 2/50\n",
      " - 0s - loss: 0.0153\n",
      "Epoch 3/50\n",
      " - 0s - loss: 0.0101\n",
      "Epoch 4/50\n",
      " - 0s - loss: 0.0104\n",
      "Epoch 5/50\n",
      " - 0s - loss: 0.0092\n",
      "Epoch 6/50\n",
      " - 0s - loss: 0.0099\n",
      "Epoch 7/50\n",
      " - 0s - loss: 0.0094\n",
      "Epoch 8/50\n",
      " - 0s - loss: 0.0095\n",
      "Epoch 9/50\n",
      " - 0s - loss: 0.0077\n",
      "Epoch 10/50\n",
      " - 0s - loss: 0.0081\n",
      "Epoch 11/50\n",
      " - 0s - loss: 0.0090\n",
      "Epoch 12/50\n",
      " - 0s - loss: 0.0088\n",
      "Epoch 13/50\n",
      " - 0s - loss: 0.0085\n",
      "Epoch 14/50\n",
      " - 0s - loss: 0.0078\n",
      "Epoch 15/50\n",
      " - 0s - loss: 0.0083\n",
      "Epoch 16/50\n",
      " - 0s - loss: 0.0078\n",
      "Epoch 17/50\n",
      " - 0s - loss: 0.0071\n",
      "Epoch 18/50\n",
      " - 0s - loss: 0.0071\n",
      "Epoch 19/50\n",
      " - 0s - loss: 0.0078\n",
      "Epoch 20/50\n",
      " - 0s - loss: 0.0073\n",
      "Epoch 21/50\n",
      " - 0s - loss: 0.0078\n",
      "Epoch 22/50\n",
      " - 0s - loss: 0.0070\n",
      "Epoch 23/50\n",
      " - 0s - loss: 0.0074\n",
      "Epoch 24/50\n",
      " - 0s - loss: 0.0072\n",
      "Epoch 25/50\n",
      " - 0s - loss: 0.0069\n",
      "Epoch 26/50\n",
      " - 0s - loss: 0.0059\n",
      "Epoch 27/50\n",
      " - 0s - loss: 0.0069\n",
      "Epoch 28/50\n",
      " - 0s - loss: 0.0066\n",
      "Epoch 29/50\n",
      " - 0s - loss: 0.0065\n",
      "Epoch 30/50\n",
      " - 0s - loss: 0.0066\n",
      "Epoch 31/50\n",
      " - 0s - loss: 0.0058\n",
      "Epoch 32/50\n",
      " - 0s - loss: 0.0059\n",
      "Epoch 33/50\n",
      " - 0s - loss: 0.0061\n",
      "Epoch 34/50\n",
      " - 0s - loss: 0.0060\n",
      "Epoch 35/50\n",
      " - 0s - loss: 0.0066\n",
      "Epoch 36/50\n",
      " - 0s - loss: 0.0055\n",
      "Epoch 37/50\n",
      " - 0s - loss: 0.0056\n",
      "Epoch 38/50\n",
      " - 0s - loss: 0.0059\n",
      "Epoch 39/50\n",
      " - 0s - loss: 0.0060\n",
      "Epoch 40/50\n",
      " - 0s - loss: 0.0055\n",
      "Epoch 41/50\n",
      " - 0s - loss: 0.0057\n",
      "Epoch 42/50\n",
      " - 0s - loss: 0.0054\n",
      "Epoch 43/50\n",
      " - 0s - loss: 0.0053\n",
      "Epoch 44/50\n",
      " - 0s - loss: 0.0055\n",
      "Epoch 45/50\n",
      " - 0s - loss: 0.0054\n",
      "Epoch 46/50\n",
      " - 0s - loss: 0.0057\n",
      "Epoch 47/50\n",
      " - 0s - loss: 0.0055\n",
      "Epoch 48/50\n",
      " - 0s - loss: 0.0054\n",
      "Epoch 49/50\n",
      " - 0s - loss: 0.0051\n",
      "Epoch 50/50\n",
      " - 0s - loss: 0.0053\n"
     ]
    },
    {
     "data": {
      "text/plain": [
       "<keras.callbacks.History at 0x1a6a62e66d8>"
      ]
     },
     "execution_count": 227,
     "metadata": {},
     "output_type": "execute_result"
    }
   ],
   "source": [
    "model.fit(X_train, y_train, epochs=50, batch_size=32, verbose=2)"
   ]
  },
  {
   "cell_type": "code",
   "execution_count": 228,
   "metadata": {
    "colab": {},
    "colab_type": "code",
    "id": "e8ZX1oz-cpM3"
   },
   "outputs": [
    {
     "name": "stdout",
     "output_type": "stream",
     "text": [
      "baseline test score = 73.80 RMSE\n",
      "train score = 72.52 RMSE\n",
      "test score = 78.13 RMSE\n"
     ]
    }
   ],
   "source": [
    "baseline_testScore = min_max_scaler.inverse_transform(np.array([[mean_squared_error(y_test[10:], y_test[:-10])**.5]]))\n",
    "trainScore = min_max_scaler.inverse_transform(np.array([[model.evaluate(X_train, y_train, verbose=0)**.5]]))\n",
    "testScore = min_max_scaler.inverse_transform(np.array([[model.evaluate(X_test, y_test, verbose=0)**.5]]))\n",
    "\n",
    "print('baseline test score = %.2f RMSE' % baseline_testScore)\n",
    "print('train score = %.2f RMSE' % trainScore)\n",
    "print('test score = %.2f RMSE' % testScore)"
   ]
  },
  {
   "cell_type": "code",
   "execution_count": 229,
   "metadata": {
    "colab": {},
    "colab_type": "code",
    "id": "YGs5fLkKcsxD"
   },
   "outputs": [],
   "source": [
    "# generate predictions\n",
    "y_train_pred = model.predict(X_train)\n",
    "y_test_pred = model.predict(X_test)"
   ]
  },
  {
   "cell_type": "code",
   "execution_count": 230,
   "metadata": {
    "colab": {},
    "colab_type": "code",
    "id": "KvhZ3Wr2czaF"
   },
   "outputs": [],
   "source": [
    "y = np.append(y_train, y_test)\n",
    "y_pred = np.append(y_train_pred, y_test_pred)"
   ]
  },
  {
   "cell_type": "code",
   "execution_count": 231,
   "metadata": {
    "colab": {},
    "colab_type": "code",
    "id": "vhzC9Dm4c1o4"
   },
   "outputs": [
    {
     "data": {
      "text/plain": [
       "<matplotlib.legend.Legend at 0x1a6a9ea9b00>"
      ]
     },
     "execution_count": 231,
     "metadata": {},
     "output_type": "execute_result"
    },
    {
     "data": {
      "image/png": "[encoded data removed]",
      "text/plain": [
       "<Figure size 1800x720 with 1 Axes>"
      ]
     },
     "metadata": {},
     "output_type": "display_data"
    }
   ],
   "source": [
    "nn = 10000\n",
    "plt.figure(figsize=(25,10))\n",
    "\n",
    "plt.plot(dataframe['Time'][5:][-nn:], y[-nn:], linestyle='solid', color='green', label='train_data + test_data')\n",
    "plt.plot(dataframe['Time'][5:][-nn:], y_pred[-nn:], linestyle='solid', color='blue', label='prediction')\n",
    "\n",
    "plt.legend()"
   ]
  },
  {
   "cell_type": "code",
   "execution_count": null,
   "metadata": {
    "colab": {},
    "colab_type": "code",
    "id": "wHEhei6Pc4Yd"
   },
   "outputs": [],
   "source": []
  },
  {
   "cell_type": "code",
   "execution_count": null,
   "metadata": {},
   "outputs": [],
   "source": []
  }
 ],
 "metadata": {
  "colab": {
   "name": "Apple_Stock_Analysis_LSTM.ipynb",
   "provenance": [],
   "version": "0.3.2"
  },
  "kernelspec": {
   "display_name": "Python 3",
   "language": "python",
   "name": "python3"
  },
  "language_info": {
   "codemirror_mode": {
    "name": "ipython",
    "version": 3
   },
   "file_extension": ".py",
   "mimetype": "text/x-python",
   "name": "python",
   "nbconvert_exporter": "python",
   "pygments_lexer": "ipython3",
   "version": "3.6.6"
  }
 },
 "nbformat": 4,
 "nbformat_minor": 1
}
